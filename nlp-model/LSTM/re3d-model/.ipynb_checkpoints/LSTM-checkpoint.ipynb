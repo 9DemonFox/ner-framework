{
 "cells": [
  {
   "cell_type": "code",
   "execution_count": 167,
   "metadata": {
    "scrolled": true
   },
   "outputs": [],
   "source": [
    "# Import Tensorflow for the bidirectional LSTM \n",
    "import tensorflow as tf\n",
    "#from tensorflow.keras.models import Sequential, load_model\n",
    "from tensorflow.keras import Input\n",
    "from tensorflow.keras.models import Model, load_model, Sequential\n",
    "from tensorflow.keras.layers import Dense, Dropout, LSTM, Bidirectional, TimeDistributed, Embedding\n",
    "from tensorflow.keras.preprocessing.sequence import pad_sequences\n",
    "from tensorflow.keras.utils import to_categorical\n",
    "import matplotlib.pyplot as plt \n",
    "import numpy as np \n",
    "\n",
    "%matplotlib inline \n",
    "plt.style.use('ggplot')\n",
    "\n",
    "# Readers for the conll format  \n",
    "from nltk.corpus.reader import *\n",
    "from nltk import flatten \n",
    "\n",
    "# Read the dataset \n",
    "train = ConllCorpusReader('../../Datasets/re3d-defense/CONLL-format/data/train/',\n",
    "                          're3d-train.conll',\n",
    "                          ['words', 'pos', 'chunk'])\n",
    "\n",
    "\n",
    "test = ConllCorpusReader('../../Datasets/re3d-defense/CONLL-format/data/test/', \n",
    "                         're3d-test.conll',\n",
    "                          ['words', 'pos', 'chunk'])\n",
    "\n"
   ]
  },
  {
   "cell_type": "code",
   "execution_count": 168,
   "metadata": {
    "scrolled": true
   },
   "outputs": [
    {
     "name": "stdout",
     "output_type": "stream",
     "text": [
      "Number of training records: 965\n",
      "Number of testing records: 200\n",
      "[('The', 'B-Location'), ('hospital', 'I-Location'), ('has', 'O'), ('facilities', 'O'), ('for', 'O'), ('MRI', 'O'), ('and', 'O'), ('CT', 'O'), ('scan', 'O'), (',', 'O'), ('a', 'O'), ('gamma', 'O'), ('camera', 'O'), ('and', 'O'), ('lithotripsy', 'O'), ('device', 'O'), ('.', 'O')]\n"
     ]
    }
   ],
   "source": [
    "sentences = train.tagged_sents() + test.tagged_sents()\n",
    "test_sentences = test.tagged_sents() \n",
    "\n",
    "print(\"Number of training records: \" + str(len(sentences)))\n",
    "print(\"Number of testing records: \" + str(len(test.tagged_sents())))\n",
    "print(sentences[1])"
   ]
  },
  {
   "cell_type": "code",
   "execution_count": 169,
   "metadata": {},
   "outputs": [
    {
     "data": {
      "image/png": "[encoded data removed]",
      "text/plain": [
       "<Figure size 432x288 with 1 Axes>"
      ]
     },
     "metadata": {},
     "output_type": "display_data"
    }
   ],
   "source": [
    "plt.hist([len(s) for s in sentences], bins=30)\n",
    "plt.show()\n"
   ]
  },
  {
   "cell_type": "code",
   "execution_count": 170,
   "metadata": {
    "scrolled": true
   },
   "outputs": [
    {
     "name": "stdout",
     "output_type": "stream",
     "text": [
      "Max Length: 154\n",
      "Number of words: 4295\n"
     ]
    }
   ],
   "source": [
    "# Max \n",
    "MAX_LENGTH = max([len(s) for s in sentences])\n",
    "print(\"Max Length: \" + str(MAX_LENGTH))\n",
    "\n",
    "words = list(set(train.words() + test.words()))\n",
    "words.append(\"ENDPAD\")\n",
    "N_WORDS = len(words) \n",
    "\n",
    "print(\"Number of words: \" + str(N_WORDS))\n",
    "\n",
    "\n",
    "tags = list(set(flatten([[tpl[1] for tpl in rec] for rec in sentences])))\n",
    "N_TAGS = len(tags)\n",
    "\n",
    "word_index = { w: i for i,w in enumerate(words) }\n",
    "tag_index  = { t: i for i,t in enumerate(tags)  }\n",
    "\n",
    "# from collections import Counter \n",
    "# o_count = Counter(flatten([[tpl[1] for tpl in rec] for rec in sentences])); \n",
    "# print(o_count)\n",
    "\n",
    "X =[[word_index[word[0]] for word in sentence] for sentence in sentences]\n",
    "\n",
    "X_TRAIN = pad_sequences(maxlen=MAX_LENGTH, \n",
    "                        sequences=X,\n",
    "                        padding=\"post\", value=N_WORDS-1)\n",
    "\n",
    "Y =[[tag_index[word[1]] for word in sentence] for sentence in sentences]\n",
    "\n",
    "\n",
    "Y_TRAIN = pad_sequences(maxlen=MAX_LENGTH, \n",
    "                        sequences=Y,\n",
    "                        padding=\"post\", value=tag_index['O'])\n",
    "\n",
    "Y_TRAIN = [to_categorical(i, num_classes=N_TAGS) for i in Y_TRAIN]\n",
    "\n",
    "\n",
    "from sklearn.model_selection import train_test_split\n",
    "X_TRAIN, X_TEST, Y_TRAIN, Y_TEST = train_test_split(X_TRAIN,Y_TRAIN, test_size=0.2)\n",
    "\n",
    "# X_TEST = [ [word_index[word[0]] for word in sentence] for sentence in test_sentences]\n",
    "\n",
    "# X_TEST = pad_sequences(maxlen=MAX_LENGTH, \n",
    "#                         sequences=X_TEST,\n",
    "#                         padding=\"post\", value=N_WORDS-1)\n",
    "\n",
    "# #Y_TEST =[[tag_index[word[1]] for word in sentence] for sentence in sentences]\n",
    "\n",
    "# Y_TEST = pad_sequences(maxlen=MAX_LENGTH, \n",
    "#                         sequences=Y_TEST,\n",
    "#                         padding=\"post\", value=tag_index['O'])\n",
    "\n",
    "# Y_TEST = [to_categorical(i, num_classes=N_TAGS) for i in Y_TEST]\n",
    "\n"
   ]
  },
  {
   "cell_type": "code",
   "execution_count": 174,
   "metadata": {
    "scrolled": false
   },
   "outputs": [
    {
     "name": "stdout",
     "output_type": "stream",
     "text": [
      "Train on 617 samples, validate on 155 samples\n",
      "617/617 [==============================] - 10s 16ms/sample - loss: 2.2782 - accuracy: 0.8414 - val_loss: 0.4957 - val_accuracy: 0.9537\n"
     ]
    },
    {
     "data": {
      "text/plain": [
       "<tensorflow.python.keras.callbacks.History at 0x7f39f44911d0>"
      ]
     },
     "execution_count": 174,
     "metadata": {},
     "output_type": "execute_result"
    }
   ],
   "source": [
    "input = Input(shape=(MAX_LENGTH,))\n",
    "model = Embedding(input_dim=N_WORDS, output_dim=MAX_LENGTH, input_length=MAX_LENGTH)(input)\n",
    "model = Dropout(0.1)(model) \n",
    "model = Bidirectional(LSTM(units=100, return_sequences=True, recurrent_dropout=0.1))(model)\n",
    "out   = TimeDistributed(Dense(N_TAGS, activation='softmax'))(model)\n",
    "\n",
    "model = Model(input, out)\n",
    "model.compile(optimizer=\"adam\", loss=\"categorical_crossentropy\", metrics=['accuracy'])\n",
    "model.fit(X_TRAIN, np.array(Y_TRAIN), batch_size=32, epochs=1, validation_split=0.2, verbose =1)\n"
   ]
  },
  {
   "cell_type": "code",
   "execution_count": 175,
   "metadata": {},
   "outputs": [
    {
     "name": "stdout",
     "output_type": "stream",
     "text": [
      "Word           (True ): Pred\n",
      "The           : O\n",
      "Members       : O\n",
      "of            : O\n",
      "the           : O\n",
      "Security      : O\n",
      "Council       : O\n",
      "urge          : O\n",
      "all           : O\n",
      "political     : O\n",
      "parties       : O\n",
      "and           : O\n",
      "their         : O\n",
      "supporters    : O\n",
      "to            : O\n",
      "remain        : O\n",
      "calm          : O\n",
      "and           : O\n",
      "respect       : O\n",
      "the           : O\n",
      "political     : O\n",
      "process       : O\n",
      "governed      : O\n",
      "by            : O\n",
      "the           : O\n",
      "Constitution  : O\n",
      ".             : O\n",
      "ENDPAD        : O\n",
      "ENDPAD        : O\n",
      "ENDPAD        : O\n",
      "ENDPAD        : O\n",
      "ENDPAD        : O\n",
      "ENDPAD        : O\n",
      "ENDPAD        : O\n",
      "ENDPAD        : O\n",
      "ENDPAD        : O\n",
      "ENDPAD        : O\n",
      "ENDPAD        : O\n",
      "ENDPAD        : O\n",
      "ENDPAD        : O\n",
      "ENDPAD        : O\n",
      "ENDPAD        : O\n",
      "ENDPAD        : O\n",
      "ENDPAD        : O\n",
      "ENDPAD        : O\n",
      "ENDPAD        : O\n",
      "ENDPAD        : O\n",
      "ENDPAD        : O\n",
      "ENDPAD        : O\n",
      "ENDPAD        : O\n",
      "ENDPAD        : O\n",
      "ENDPAD        : O\n",
      "ENDPAD        : O\n",
      "ENDPAD        : O\n",
      "ENDPAD        : O\n",
      "ENDPAD        : O\n",
      "ENDPAD        : O\n",
      "ENDPAD        : O\n",
      "ENDPAD        : O\n",
      "ENDPAD        : O\n",
      "ENDPAD        : O\n",
      "ENDPAD        : O\n",
      "ENDPAD        : O\n",
      "ENDPAD        : O\n",
      "ENDPAD        : O\n",
      "ENDPAD        : O\n",
      "ENDPAD        : O\n",
      "ENDPAD        : O\n",
      "ENDPAD        : O\n",
      "ENDPAD        : O\n",
      "ENDPAD        : O\n",
      "ENDPAD        : O\n",
      "ENDPAD        : O\n",
      "ENDPAD        : O\n",
      "ENDPAD        : O\n",
      "ENDPAD        : O\n",
      "ENDPAD        : O\n",
      "ENDPAD        : O\n",
      "ENDPAD        : O\n",
      "ENDPAD        : O\n",
      "ENDPAD        : O\n",
      "ENDPAD        : O\n",
      "ENDPAD        : O\n",
      "ENDPAD        : O\n",
      "ENDPAD        : O\n",
      "ENDPAD        : O\n",
      "ENDPAD        : O\n",
      "ENDPAD        : O\n",
      "ENDPAD        : O\n",
      "ENDPAD        : O\n",
      "ENDPAD        : O\n",
      "ENDPAD        : O\n",
      "ENDPAD        : O\n",
      "ENDPAD        : O\n",
      "ENDPAD        : O\n",
      "ENDPAD        : O\n",
      "ENDPAD        : O\n",
      "ENDPAD        : O\n",
      "ENDPAD        : O\n",
      "ENDPAD        : O\n",
      "ENDPAD        : O\n",
      "ENDPAD        : O\n",
      "ENDPAD        : O\n",
      "ENDPAD        : O\n",
      "ENDPAD        : O\n",
      "ENDPAD        : O\n",
      "ENDPAD        : O\n",
      "ENDPAD        : O\n",
      "ENDPAD        : O\n",
      "ENDPAD        : O\n",
      "ENDPAD        : O\n",
      "ENDPAD        : O\n",
      "ENDPAD        : O\n",
      "ENDPAD        : O\n",
      "ENDPAD        : O\n",
      "ENDPAD        : O\n",
      "ENDPAD        : O\n",
      "ENDPAD        : O\n",
      "ENDPAD        : O\n",
      "ENDPAD        : O\n",
      "ENDPAD        : O\n",
      "ENDPAD        : O\n",
      "ENDPAD        : O\n",
      "ENDPAD        : O\n",
      "ENDPAD        : O\n",
      "ENDPAD        : O\n",
      "ENDPAD        : O\n",
      "ENDPAD        : O\n",
      "ENDPAD        : O\n",
      "ENDPAD        : O\n",
      "ENDPAD        : O\n",
      "ENDPAD        : O\n",
      "ENDPAD        : O\n",
      "ENDPAD        : O\n",
      "ENDPAD        : O\n",
      "ENDPAD        : O\n",
      "ENDPAD        : O\n",
      "ENDPAD        : O\n",
      "ENDPAD        : O\n",
      "ENDPAD        : O\n",
      "ENDPAD        : O\n",
      "ENDPAD        : O\n",
      "ENDPAD        : O\n",
      "ENDPAD        : O\n",
      "ENDPAD        : O\n",
      "ENDPAD        : O\n",
      "ENDPAD        : O\n",
      "ENDPAD        : O\n",
      "ENDPAD        : O\n",
      "ENDPAD        : O\n",
      "ENDPAD        : O\n",
      "ENDPAD        : O\n",
      "ENDPAD        : O\n",
      "ENDPAD        : O\n",
      "ENDPAD        : O\n"
     ]
    }
   ],
   "source": [
    "i = 43\n",
    "p = model.predict(np.array([X_TEST[i]]))\n",
    "p = np.argmax(p, axis=-1)\n",
    "\n",
    "print(\"{:14} ({:5}): {}\".format(\"Word\", \"True\", \"Pred\"))\n",
    "for w,pred in zip(X_TEST[i],p[0]):\n",
    "    print(\"{:14}: {}\".format(words[w],tags[pred]))\n",
    "    \n",
    "#print(len(X_TRAIN[36]))\n",
    "#print(words[X_TRAIN[4][1]])"
   ]
  },
  {
   "cell_type": "code",
   "execution_count": null,
   "metadata": {},
   "outputs": [],
   "source": []
  },
  {
   "cell_type": "code",
   "execution_count": null,
   "metadata": {},
   "outputs": [],
   "source": []
  }
 ],
 "metadata": {
  "kernelspec": {
   "display_name": "Python 3",
   "language": "python",
   "name": "python3"
  },
  "language_info": {
   "codemirror_mode": {
    "name": "ipython",
    "version": 3
   },
   "file_extension": ".py",
   "mimetype": "text/x-python",
   "name": "python",
   "nbconvert_exporter": "python",
   "pygments_lexer": "ipython3",
   "version": "3.7.4"
  }
 },
 "nbformat": 4,
 "nbformat_minor": 2
}
