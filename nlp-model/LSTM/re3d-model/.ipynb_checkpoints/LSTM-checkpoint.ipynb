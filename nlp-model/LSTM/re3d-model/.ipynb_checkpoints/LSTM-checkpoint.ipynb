{
 "cells": [
  {
   "cell_type": "code",
   "execution_count": 15,
   "metadata": {
    "scrolled": true
   },
   "outputs": [],
   "source": [
    "# Import Tensorflow for the bidirectional LSTM \n",
    "import tensorflow as tf\n",
    "#from tensorflow.keras.models import Sequential, load_model\n",
    "from tensorflow.keras import Input\n",
    "from tensorflow.keras.models import Model, load_model, Sequential\n",
    "from tensorflow.keras.layers import Dense, Dropout, LSTM, Bidirectional, TimeDistributed, Embedding\n",
    "from tensorflow.keras.preprocessing.sequence import pad_sequences\n",
    "from tensorflow.keras.utils import to_categorical\n",
    "import matplotlib.pyplot as plt \n",
    "import numpy as np \n",
    "\n",
    "%matplotlib inline \n",
    "plt.style.use('ggplot')\n",
    "\n",
    "# Readers for the conll format  \n",
    "from nltk.corpus.reader import *\n",
    "from nltk import flatten \n",
    "\n",
    "# Read the dataset \n",
    "train = ConllCorpusReader('../../Datasets/re3d-defense/CONLL-format/data/train/',\n",
    "                          're3d-train.conll',\n",
    "                          ['words', 'pos', 'chunk'])\n",
    "\n",
    "test = ConllCorpusReader('../../Datasets/re3d-defense/CONLL-format/data/test/', \n",
    "                         're3d-test.conll',\n",
    "                          ['words', 'pos', 'chunk'])\n",
    "\n"
   ]
  },
  {
   "cell_type": "code",
   "execution_count": 16,
   "metadata": {
    "scrolled": true
   },
   "outputs": [
    {
     "name": "stdout",
     "output_type": "stream",
     "text": [
      "Number of training records: 765\n",
      "Number of testing records: 200\n",
      "[('The', 'B-Location'), ('hospital', 'I-Location'), ('has', 'O'), ('facilities', 'O'), ('for', 'O'), ('MRI', 'O'), ('and', 'O'), ('CT', 'O'), ('scan', 'O'), (',', 'O'), ('a', 'O'), ('gamma', 'O'), ('camera', 'O'), ('and', 'O'), ('lithotripsy', 'O'), ('device', 'O'), ('.', 'O')]\n"
     ]
    }
   ],
   "source": [
    "sentences = train.tagged_sents()\n",
    "test_sentences = test.tagged_sents() \n",
    "\n",
    "print(\"Number of training records: \" + str(len(sentences)))\n",
    "print(\"Number of testing records: \" + str(len(test.tagged_sents())))\n",
    "print(sentences[1])"
   ]
  },
  {
   "cell_type": "code",
   "execution_count": 17,
   "metadata": {},
   "outputs": [
    {
     "data": {
      "image/png": "[encoded data removed]",
      "text/plain": [
       "<Figure size 432x288 with 1 Axes>"
      ]
     },
     "metadata": {},
     "output_type": "display_data"
    }
   ],
   "source": [
    "plt.hist([len(s) for s in sentences], bins=30)\n",
    "plt.show()"
   ]
  },
  {
   "cell_type": "code",
   "execution_count": null,
   "metadata": {
    "scrolled": true
   },
   "outputs": [],
   "source": []
  },
  {
   "cell_type": "code",
   "execution_count": 18,
   "metadata": {},
   "outputs": [],
   "source": [
    "# Max sequence is 160.\n",
    "MAX_LENGTH = 160 \n",
    "\n",
    "words = list(set(train.words()))\n",
    "words.append(\"ENDPAD\")\n",
    "N_WORDS = len(words) \n",
    "\n",
    "\n",
    "tags = flatten([[tpl[1] for tpl in rec] for rec in sentences])\n",
    "N_TAGS = len(tags)\n",
    "\n",
    "word_index = { w: i for i,w in enumerate(words) }\n",
    "tag_index  = { t: i for i,t in enumerate(tags)  }\n",
    "\n",
    "X =[ [word_index[word[0]] for word in sentence] for sentence in sentences]\n",
    "\n",
    "X_TRAIN = pad_sequences(maxlen=MAX_LENGTH, \n",
    "                        sequences=X,\n",
    "                        padding=\"post\", value=N_WORDS-1)\n",
    "\n",
    "Y =[[tag_index[word[1]] for word in sentence] for sentence in sentences]\n",
    "\n",
    "\n",
    "Y_TRAIN = pad_sequences(maxlen=MAX_LENGTH, \n",
    "                        sequences=Y,\n",
    "                        padding=\"post\", value=tag_index['O'])\n",
    "\n",
    "Y_TRAIN = [to_categorical(i, num_classes=N_TAGS) for i in Y_TRAIN]\n",
    "\n",
    "# print(len(X_TRAIN))\n",
    "# print(len(Y_TRAIN))\n",
    "# print(Y_TRAIN)\n",
    "# X_TRAIN = [[tpl[0] for tpl in rec] for rec in sentences]\n",
    "# Y_TRAIN = [[tpl[1] for tpl in rec] for rec in sentences]\n",
    "\n",
    "# X_TEST = [[tpl[0] for tpl in rec] for rec in test_sentences]\n",
    "# Y_TEST = [[tpl[1] for tpl in rec] for rec in test_sentences]\n"
   ]
  },
  {
   "cell_type": "code",
   "execution_count": 21,
   "metadata": {
    "scrolled": false
   },
   "outputs": [
    {
     "ename": "MemoryError",
     "evalue": "Unable to allocate array with shape (765, 160, 20030) and data type float32",
     "output_type": "error",
     "traceback": [
      "\u001b[0;31m---------------------------------------------------------------------------\u001b[0m",
      "\u001b[0;31mMemoryError\u001b[0m                               Traceback (most recent call last)",
      "\u001b[0;32m<ipython-input-21-7907c2a2ca26>\u001b[0m in \u001b[0;36m<module>\u001b[0;34m\u001b[0m\n\u001b[1;32m     31\u001b[0m \u001b[0mmodel\u001b[0m \u001b[0;34m=\u001b[0m \u001b[0mModel\u001b[0m\u001b[0;34m(\u001b[0m\u001b[0minput\u001b[0m\u001b[0;34m,\u001b[0m \u001b[0mout\u001b[0m\u001b[0;34m)\u001b[0m\u001b[0;34m\u001b[0m\u001b[0;34m\u001b[0m\u001b[0m\n\u001b[1;32m     32\u001b[0m \u001b[0mmodel\u001b[0m\u001b[0;34m.\u001b[0m\u001b[0mcompile\u001b[0m\u001b[0;34m(\u001b[0m\u001b[0moptimizer\u001b[0m\u001b[0;34m=\u001b[0m\u001b[0;34m\"adam\"\u001b[0m\u001b[0;34m,\u001b[0m \u001b[0mloss\u001b[0m\u001b[0;34m=\u001b[0m\u001b[0;34m\"categorical_crossentropy\"\u001b[0m\u001b[0;34m)\u001b[0m\u001b[0;34m\u001b[0m\u001b[0;34m\u001b[0m\u001b[0m\n\u001b[0;32m---> 33\u001b[0;31m \u001b[0mmodel\u001b[0m\u001b[0;34m.\u001b[0m\u001b[0mfit\u001b[0m\u001b[0;34m(\u001b[0m\u001b[0mX_TRAIN\u001b[0m\u001b[0;34m,\u001b[0m \u001b[0mnp\u001b[0m\u001b[0;34m.\u001b[0m\u001b[0marray\u001b[0m\u001b[0;34m(\u001b[0m\u001b[0mY_TRAIN\u001b[0m\u001b[0;34m)\u001b[0m\u001b[0;34m,\u001b[0m \u001b[0mbatch_size\u001b[0m\u001b[0;34m=\u001b[0m\u001b[0;36m32\u001b[0m\u001b[0;34m,\u001b[0m \u001b[0mepochs\u001b[0m\u001b[0;34m=\u001b[0m\u001b[0;36m1\u001b[0m\u001b[0;34m,\u001b[0m\u001b[0mverbose\u001b[0m \u001b[0;34m=\u001b[0m\u001b[0;36m1\u001b[0m\u001b[0;34m)\u001b[0m\u001b[0;34m\u001b[0m\u001b[0;34m\u001b[0m\u001b[0m\n\u001b[0m\u001b[1;32m     34\u001b[0m \u001b[0;34m\u001b[0m\u001b[0m\n\u001b[1;32m     35\u001b[0m \u001b[0;31m# input = Input(shape=(140,))\u001b[0m\u001b[0;34m\u001b[0m\u001b[0;34m\u001b[0m\u001b[0;34m\u001b[0m\u001b[0m\n",
      "\u001b[0;31mMemoryError\u001b[0m: Unable to allocate array with shape (765, 160, 20030) and data type float32"
     ]
    }
   ],
   "source": [
    "# model = Sequential() \n",
    "\n",
    "# model.add(LSTM(128, input_shape=(x_train.shape[1:]), activation='relu', return_sequences=True))\n",
    "# model.add(Dropout(0.2))\n",
    "\n",
    "# model.add(LSTM(128, activation='relu'))\n",
    "# model.add(Dropout(0.1))\n",
    "\n",
    "# model.add(Dense(32, activation='relu'))\n",
    "# model.add(Dropout(0.2))\n",
    "\n",
    "# model.add(Dense(10, activation='softmax'))\n",
    "\n",
    "# opt = tf.keras.optimizers.Adam(lr=0.001, decay=1e-6)\n",
    "\n",
    "# model.compile(\n",
    "#     loss='sparse_categorical_crossentropy', \n",
    "#     optimizer = opt,\n",
    "#     metrics = ['accuracy']\n",
    "# )\n",
    "\n",
    "# model.fit(x_train, y_train, epochs=3, validation_data=(x_test, y_test))\n",
    "# model.save('MNIST_LSTM.model')\n",
    "\n",
    "input = Input(shape=(MAX_LENGTH,))\n",
    "model = Embedding(input_dim=N_WORDS, output_dim=MAX_LENGTH, input_length=MAX_LENGTH)(input)\n",
    "model = Dropout(0.1)(model)\n",
    "model = Bidirectional(LSTM(100, return_sequences=True, recurrent_dropout=0.1))(model)\n",
    "out   = TimeDistributed(Dense(N_TAGS, activation='softmax'))(model)\n",
    "\n",
    "model = Model(input, out)\n",
    "model.compile(optimizer=\"adam\", loss=\"categorical_crossentropy\")\n",
    "model.fit(X_TRAIN, np.array(Y_TRAIN), batch_size=32, epochs=1,verbose =1)\n",
    "\n",
    "# input = Input(shape=(140,))\n",
    "# model = Embedding(input_dim=n_words, output_dim=140, input_length=140)(input)\n",
    "# model = Dropout(0.1)(model)\n",
    "# model = Bidirectional(LSTM(units=100, return_sequences=True, recurrent_dropout=0.1))(model)\n",
    "# out = TimeDistributed(Dense(N_TAGS, activation=\"softmax\"))(model)  # softmax output layer\n",
    "\n",
    "# model = Model(input, out)\n",
    "\n",
    "# model.compile(optimizer=\"adam\", loss=\"categorical_crossentropy\", metrics=[\"accuracy\"])\n",
    "# history = model.fit(X_train, np.array(y_train), batch_size=32, epochs=1, validation_split=0.2, verbose=1)"
   ]
  },
  {
   "cell_type": "code",
   "execution_count": null,
   "metadata": {},
   "outputs": [],
   "source": []
  }
 ],
 "metadata": {
  "kernelspec": {
   "display_name": "Python 3",
   "language": "python",
   "name": "python3"
  },
  "language_info": {
   "codemirror_mode": {
    "name": "ipython",
    "version": 3
   },
   "file_extension": ".py",
   "mimetype": "text/x-python",
   "name": "python",
   "nbconvert_exporter": "python",
   "pygments_lexer": "ipython3",
   "version": "3.7.4"
  }
 },
 "nbformat": 4,
 "nbformat_minor": 2
}
