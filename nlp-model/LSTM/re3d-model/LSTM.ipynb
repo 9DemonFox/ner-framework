{
 "cells": [
  {
   "cell_type": "code",
   "execution_count": 33,
   "metadata": {
    "scrolled": true
   },
   "outputs": [],
   "source": [
    "# Import Tensorflow for the bidirectional LSTM \n",
    "import tensorflow as tf\n",
    "from tensorflow.keras.models import Sequential, load_model\n",
    "from tensorflow.keras.layers import Dense, Dropout, LSTM, Bidirectional \n",
    "import matplotlib.pyplot as plt \n",
    "import numpy as np \n",
    "\n",
    "%matplotlib inline \n",
    "\n",
    "# Readers for the conll format  \n",
    "from nltk.corpus.reader import *\n",
    "\n",
    "# Read the dataset \n",
    "train = ConllCorpusReader('../../Datasets/re3d-defense/CONLL-format/data/train/',\n",
    "                          're3d-train.conll',\n",
    "                          ['words', 'pos', 'chunk'])\n",
    "\n",
    "test = ConllCorpusReader('../../Datasets/re3d-defense/CONLL-format/data/test/', \n",
    "                         're3d-test.conll',\n",
    "                          ['words', 'pos', 'chunk'])\n",
    "\n"
   ]
  },
  {
   "cell_type": "code",
   "execution_count": 45,
   "metadata": {},
   "outputs": [
    {
     "name": "stdout",
     "output_type": "stream",
     "text": [
      "Number of training records: 765\n",
      "Number of testing records: 200\n",
      "[('The', 'B-Location'), ('hospital', 'I-Location'), ('has', 'O'), ('facilities', 'O'), ('for', 'O'), ('MRI', 'O'), ('and', 'O'), ('CT', 'O'), ('scan', 'O'), (',', 'O'), ('a', 'O'), ('gamma', 'O'), ('camera', 'O'), ('and', 'O'), ('lithotripsy', 'O'), ('device', 'O'), ('.', 'O')]\n"
     ]
    }
   ],
   "source": [
    "sentences = train.tagged_sents()\n",
    "print(\"Number of training records: \" + str(len(sentences)))\n",
    "print(\"Number of testing records: \" + str(len(test.tagged_sents())))\n",
    "print(sentences[1])"
   ]
  },
  {
   "cell_type": "code",
   "execution_count": null,
   "metadata": {},
   "outputs": [],
   "source": []
  }
 ],
 "metadata": {
  "kernelspec": {
   "display_name": "Python 3",
   "language": "python",
   "name": "python3"
  },
  "language_info": {
   "codemirror_mode": {
    "name": "ipython",
    "version": 3
   },
   "file_extension": ".py",
   "mimetype": "text/x-python",
   "name": "python",
   "nbconvert_exporter": "python",
   "pygments_lexer": "ipython3",
   "version": "3.7.4"
  }
 },
 "nbformat": 4,
 "nbformat_minor": 2
}
