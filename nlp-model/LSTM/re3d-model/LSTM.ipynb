{
 "cells": [
  {
   "cell_type": "code",
   "execution_count": 2,
   "metadata": {
    "scrolled": true
   },
   "outputs": [
    {
     "name": "stderr",
     "output_type": "stream",
     "text": [
      "C:\\Users\\crown\\Anaconda2\\envs\\tensorflow_cpu\\lib\\site-packages\\tensorflow\\python\\framework\\dtypes.py:523: FutureWarning: Passing (type, 1) or '1type' as a synonym of type is deprecated; in a future version of numpy, it will be understood as (type, (1,)) / '(1,)type'.\n",
      "  _np_qint8 = np.dtype([(\"qint8\", np.int8, 1)])\n",
      "C:\\Users\\crown\\Anaconda2\\envs\\tensorflow_cpu\\lib\\site-packages\\tensorflow\\python\\framework\\dtypes.py:524: FutureWarning: Passing (type, 1) or '1type' as a synonym of type is deprecated; in a future version of numpy, it will be understood as (type, (1,)) / '(1,)type'.\n",
      "  _np_quint8 = np.dtype([(\"quint8\", np.uint8, 1)])\n",
      "C:\\Users\\crown\\Anaconda2\\envs\\tensorflow_cpu\\lib\\site-packages\\tensorflow\\python\\framework\\dtypes.py:525: FutureWarning: Passing (type, 1) or '1type' as a synonym of type is deprecated; in a future version of numpy, it will be understood as (type, (1,)) / '(1,)type'.\n",
      "  _np_qint16 = np.dtype([(\"qint16\", np.int16, 1)])\n",
      "C:\\Users\\crown\\Anaconda2\\envs\\tensorflow_cpu\\lib\\site-packages\\tensorflow\\python\\framework\\dtypes.py:526: FutureWarning: Passing (type, 1) or '1type' as a synonym of type is deprecated; in a future version of numpy, it will be understood as (type, (1,)) / '(1,)type'.\n",
      "  _np_quint16 = np.dtype([(\"quint16\", np.uint16, 1)])\n",
      "C:\\Users\\crown\\Anaconda2\\envs\\tensorflow_cpu\\lib\\site-packages\\tensorflow\\python\\framework\\dtypes.py:527: FutureWarning: Passing (type, 1) or '1type' as a synonym of type is deprecated; in a future version of numpy, it will be understood as (type, (1,)) / '(1,)type'.\n",
      "  _np_qint32 = np.dtype([(\"qint32\", np.int32, 1)])\n",
      "C:\\Users\\crown\\Anaconda2\\envs\\tensorflow_cpu\\lib\\site-packages\\tensorflow\\python\\framework\\dtypes.py:532: FutureWarning: Passing (type, 1) or '1type' as a synonym of type is deprecated; in a future version of numpy, it will be understood as (type, (1,)) / '(1,)type'.\n",
      "  np_resource = np.dtype([(\"resource\", np.ubyte, 1)])\n"
     ]
    }
   ],
   "source": [
    "# Import Tensorflow for the bidirectional LSTM \n",
    "import tensorflow as tf\n",
    "#from tensorflow.keras.models import Sequential, load_model\n",
    "from tensorflow.keras import Input\n",
    "from tensorflow.keras.models import Model, load_model, Sequential\n",
    "from tensorflow.keras.layers import Dense, Dropout, LSTM, Bidirectional, TimeDistributed, Embedding\n",
    "from tensorflow.keras.preprocessing.sequence import pad_sequences\n",
    "from tensorflow.keras.utils import to_categorical\n",
    "\n",
    "import matplotlib.pyplot as plt \n",
    "import numpy as np \n",
    "\n",
    "%matplotlib inline \n",
    "plt.style.use('ggplot')\n",
    "\n",
    "# Readers for the conll format  \n",
    "from nltk.corpus.reader import *\n",
    "from nltk import flatten \n",
    "\n",
    "# Read the dataset \n",
    "train = ConllCorpusReader('../../Datasets/re3d-defense/CONLL-format/data/train/',\n",
    "                          're3d-train.conll',\n",
    "                          ['words', 'pos', 'chunk'])\n",
    "\n",
    "\n",
    "test = ConllCorpusReader('../../Datasets/re3d-defense/CONLL-format/data/test/', \n",
    "                         're3d-test.conll',\n",
    "                          ['words', 'pos', 'chunk'])\n",
    "\n"
   ]
  },
  {
   "cell_type": "code",
   "execution_count": 3,
   "metadata": {
    "scrolled": true
   },
   "outputs": [
    {
     "name": "stdout",
     "output_type": "stream",
     "text": [
      "Number of training records: 965\n",
      "Number of testing records: 200\n",
      "[('The', 'B-Location'), ('hospital', 'I-Location'), ('has', 'O'), ('facilities', 'O'), ('for', 'O'), ('MRI', 'O'), ('and', 'O'), ('CT', 'O'), ('scan', 'O'), (',', 'O'), ('a', 'O'), ('gamma', 'O'), ('camera', 'O'), ('and', 'O'), ('lithotripsy', 'O'), ('device', 'O'), ('.', 'O')]\n"
     ]
    }
   ],
   "source": [
    "sentences = train.tagged_sents() + test.tagged_sents()\n",
    "test_sentences = test.tagged_sents() \n",
    "\n",
    "print(\"Number of training records: \" + str(len(sentences)))\n",
    "print(\"Number of testing records: \" + str(len(test.tagged_sents())))\n",
    "print(sentences[1])"
   ]
  },
  {
   "cell_type": "code",
   "execution_count": 4,
   "metadata": {},
   "outputs": [
    {
     "data": {
      "image/png": "[encoded data removed]",
      "text/plain": [
       "<Figure size 432x288 with 1 Axes>"
      ]
     },
     "metadata": {
      "needs_background": "light"
     },
     "output_type": "display_data"
    }
   ],
   "source": [
    "plt.hist([len(s) for s in sentences], bins=30)\n",
    "plt.show()\n"
   ]
  },
  {
   "cell_type": "code",
   "execution_count": 5,
   "metadata": {
    "scrolled": true
   },
   "outputs": [
    {
     "name": "stdout",
     "output_type": "stream",
     "text": [
      "Max Length: 154\n",
      "Number of words: 4295\n"
     ]
    }
   ],
   "source": [
    "#Words Array Max \n",
    "MAX_LENGTH = max([len(s) for s in sentences])\n",
    "print(\"Max Length: \" + str(MAX_LENGTH))\n",
    "\n",
    "words = list(set(train.words() + test.words()))\n",
    "words.append(\"ENDPAD\")\n",
    "N_WORDS = len(words) \n",
    "\n",
    "print(\"Number of words: \" + str(N_WORDS))\n",
    "\n",
    "\n",
    "tags = list(set(flatten([[tpl[1] for tpl in rec] for rec in sentences])))\n",
    "N_TAGS = len(tags)\n",
    "\n",
    "word_index = { w: i for i,w in enumerate(words) }\n",
    "tag_index  = { t: i for i,t in enumerate(tags)  }\n",
    "\n",
    "# from collections import Counter \n",
    "# o_count = Counter(flatten([[tpl[1] for tpl in rec] for rec in sentences])); \n",
    "# print(o_count)\n",
    "\n",
    "X =[[word_index[word[0]] for word in sentence] for sentence in sentences]\n",
    "\n",
    "X_TRAIN = pad_sequences(maxlen=MAX_LENGTH, \n",
    "                        sequences=X,\n",
    "                        padding=\"post\", value=N_WORDS-1)\n",
    "\n",
    "Y =[[tag_index[word[1]] for word in sentence] for sentence in sentences]\n",
    "\n",
    "\n",
    "Y_TRAIN = pad_sequences(maxlen=MAX_LENGTH, \n",
    "                        sequences=Y,\n",
    "                        padding=\"post\", value=tag_index['O'])\n",
    "\n",
    "Y_TRAIN = [to_categorical(i, num_classes=N_TAGS) for i in Y_TRAIN]\n",
    "\n",
    "\n",
    "from sklearn.model_selection import train_test_split\n",
    "X_TRAIN, X_TEST, Y_TRAIN, Y_TEST = train_test_split(X_TRAIN,Y_TRAIN, test_size=0.2)\n",
    "\n",
    "# X_TEST = [ [word_index[word[0]] for word in sentence] for sentence in test_sentences]\n",
    "\n",
    "# X_TEST = pad_sequences(maxlen=MAX_LENGTH, \n",
    "#                         sequences=X_TEST,\n",
    "#                         padding=\"post\", value=N_WORDS-1)\n",
    "\n",
    "# #Y_TEST =[[tag_index[word[1]] for word in sentence] for sentence in sentences]\n",
    "\n",
    "# Y_TEST = pad_sequences(maxlen=MAX_LENGTH, \n",
    "#                         sequences=Y_TEST,\n",
    "#                         padding=\"post\", value=tag_index['O'])\n",
    "\n",
    "# Y_TEST = [to_categorical(i, num_classes=N_TAGS) for i in Y_TEST]\n",
    "\n"
   ]
  },
  {
   "cell_type": "code",
   "execution_count": 6,
   "metadata": {
    "scrolled": true
   },
   "outputs": [
    {
     "name": "stderr",
     "output_type": "stream",
     "text": [
      "C:\\Users\\crown\\Anaconda2\\envs\\tensorflow_cpu\\lib\\site-packages\\tensorflow\\python\\ops\\gradients_impl.py:100: UserWarning: Converting sparse IndexedSlices to a dense Tensor of unknown shape. This may consume a large amount of memory.\n",
      "  \"Converting sparse IndexedSlices to a dense Tensor of unknown shape. \"\n"
     ]
    },
    {
     "name": "stdout",
     "output_type": "stream",
     "text": [
      "Train on 617 samples, validate on 155 samples\n",
      "Epoch 1/20\n",
      "617/617 [==============================] - 11s 18ms/step - loss: 0.9285 - acc: 0.9017 - val_loss: 0.4029 - val_acc: 0.9456\n",
      "Epoch 2/20\n",
      "617/617 [==============================] - 8s 13ms/step - loss: 0.3379 - acc: 0.9469 - val_loss: 0.2992 - val_acc: 0.9456\n",
      "Epoch 3/20\n",
      "617/617 [==============================] - 8s 13ms/step - loss: 0.2801 - acc: 0.9469 - val_loss: 0.2497 - val_acc: 0.9456\n",
      "Epoch 4/20\n",
      "617/617 [==============================] - 8s 13ms/step - loss: 0.2426 - acc: 0.9469 - val_loss: 0.2319 - val_acc: 0.9456\n",
      "Epoch 5/20\n",
      "617/617 [==============================] - 8s 13ms/step - loss: 0.2334 - acc: 0.9469 - val_loss: 0.2269 - val_acc: 0.9456\n",
      "Epoch 6/20\n",
      "617/617 [==============================] - 8s 13ms/step - loss: 0.2297 - acc: 0.9469 - val_loss: 0.2244 - val_acc: 0.9456\n",
      "Epoch 7/20\n",
      "617/617 [==============================] - 8s 13ms/step - loss: 0.2262 - acc: 0.9469 - val_loss: 0.2217 - val_acc: 0.9456\n",
      "Epoch 8/20\n",
      "617/617 [==============================] - 8s 13ms/step - loss: 0.2234 - acc: 0.9469 - val_loss: 0.2191 - val_acc: 0.9456\n",
      "Epoch 9/20\n",
      "617/617 [==============================] - 8s 13ms/step - loss: 0.2212 - acc: 0.9469 - val_loss: 0.2172 - val_acc: 0.9456\n",
      "Epoch 10/20\n",
      "617/617 [==============================] - 8s 13ms/step - loss: 0.2186 - acc: 0.9469 - val_loss: 0.2160 - val_acc: 0.9456\n",
      "Epoch 11/20\n",
      "617/617 [==============================] - 9s 14ms/step - loss: 0.2157 - acc: 0.9469 - val_loss: 0.2121 - val_acc: 0.9456\n",
      "Epoch 12/20\n",
      "617/617 [==============================] - 9s 14ms/step - loss: 0.2113 - acc: 0.9470 - val_loss: 0.2091 - val_acc: 0.9456\n",
      "Epoch 13/20\n",
      "617/617 [==============================] - 11s 18ms/step - loss: 0.2083 - acc: 0.9470 - val_loss: 0.2101 - val_acc: 0.9456\n",
      "Epoch 14/20\n",
      "617/617 [==============================] - 10s 16ms/step - loss: 0.2036 - acc: 0.9471 - val_loss: 0.2032 - val_acc: 0.9457\n",
      "Epoch 15/20\n",
      "617/617 [==============================] - 10s 16ms/step - loss: 0.2008 - acc: 0.9472 - val_loss: 0.2001 - val_acc: 0.9459\n",
      "Epoch 16/20\n",
      "617/617 [==============================] - 11s 17ms/step - loss: 0.1949 - acc: 0.9483 - val_loss: 0.1974 - val_acc: 0.9460\n",
      "Epoch 17/20\n",
      "617/617 [==============================] - 9s 15ms/step - loss: 0.1903 - acc: 0.9486 - val_loss: 0.1931 - val_acc: 0.9468\n",
      "Epoch 18/20\n",
      "617/617 [==============================] - 9s 15ms/step - loss: 0.1853 - acc: 0.9497 - val_loss: 0.1941 - val_acc: 0.9465\n",
      "Epoch 19/20\n",
      "617/617 [==============================] - 10s 16ms/step - loss: 0.1822 - acc: 0.9503 - val_loss: 0.1867 - val_acc: 0.9487\n",
      "Epoch 20/20\n",
      "617/617 [==============================] - 10s 16ms/step - loss: 0.1763 - acc: 0.9512 - val_loss: 0.1839 - val_acc: 0.9493\n"
     ]
    },
    {
     "data": {
      "text/plain": [
       "<tensorflow.python.keras.callbacks.History at 0x1df85796048>"
      ]
     },
     "execution_count": 6,
     "metadata": {},
     "output_type": "execute_result"
    }
   ],
   "source": [
    "input = Input(shape=(MAX_LENGTH,))\n",
    "model = Embedding(input_dim=N_WORDS, output_dim=N_TAGS, input_length=MAX_LENGTH)(input)\n",
    "model = Dropout(0.1)(model) \n",
    "model = Bidirectional(LSTM(units=100, return_sequences=True, recurrent_dropout=0.1))(model)\n",
    "out   = TimeDistributed(Dense(N_TAGS, activation='softmax'))(model)\n",
    "\n",
    "model = Model(input, out)\n",
    "model.compile(optimizer=\"adam\", loss=\"categorical_crossentropy\", metrics=['accuracy'])\n",
    "model.fit(X_TRAIN, np.array(Y_TRAIN), batch_size=32, epochs=20, validation_split=0.2, verbose =1)\n"
   ]
  },
  {
   "cell_type": "code",
   "execution_count": 7,
   "metadata": {},
   "outputs": [
    {
     "name": "stdout",
     "output_type": "stream",
     "text": [
      "Word           (True ): Pred\n",
      "The           : O\n",
      "most          : O\n",
      "recent        : O\n",
      "airstrikes    : O\n",
      "bring         : O\n",
      "the           : O\n",
      "total         : O\n",
      "number        : O\n",
      "of            : O\n",
      "munitions     : O\n",
      "in            : O\n",
      "support       : O\n",
      "of            : O\n",
      "the           : O\n",
      "SDF           : I-Organisation\n",
      "since         : O\n",
      "Dec.          : O\n",
      "5             : O\n",
      "to            : O\n",
      "922           : O\n",
      ",             : O\n",
      "he            : O\n",
      "added         : O\n",
      ".             : O\n",
      "ENDPAD        : O\n",
      "ENDPAD        : O\n",
      "ENDPAD        : O\n",
      "ENDPAD        : O\n",
      "ENDPAD        : O\n",
      "ENDPAD        : O\n",
      "ENDPAD        : O\n",
      "ENDPAD        : O\n",
      "ENDPAD        : O\n",
      "ENDPAD        : O\n",
      "ENDPAD        : O\n",
      "ENDPAD        : O\n",
      "ENDPAD        : O\n",
      "ENDPAD        : O\n",
      "ENDPAD        : O\n",
      "ENDPAD        : O\n",
      "ENDPAD        : O\n",
      "ENDPAD        : O\n",
      "ENDPAD        : O\n",
      "ENDPAD        : O\n",
      "ENDPAD        : O\n",
      "ENDPAD        : O\n",
      "ENDPAD        : O\n",
      "ENDPAD        : O\n",
      "ENDPAD        : O\n",
      "ENDPAD        : O\n",
      "ENDPAD        : O\n",
      "ENDPAD        : O\n",
      "ENDPAD        : O\n",
      "ENDPAD        : O\n",
      "ENDPAD        : O\n",
      "ENDPAD        : O\n",
      "ENDPAD        : O\n",
      "ENDPAD        : O\n",
      "ENDPAD        : O\n",
      "ENDPAD        : O\n",
      "ENDPAD        : O\n",
      "ENDPAD        : O\n",
      "ENDPAD        : O\n",
      "ENDPAD        : O\n",
      "ENDPAD        : O\n",
      "ENDPAD        : O\n",
      "ENDPAD        : O\n",
      "ENDPAD        : O\n",
      "ENDPAD        : O\n",
      "ENDPAD        : O\n",
      "ENDPAD        : O\n",
      "ENDPAD        : O\n",
      "ENDPAD        : O\n",
      "ENDPAD        : O\n",
      "ENDPAD        : O\n",
      "ENDPAD        : O\n",
      "ENDPAD        : O\n",
      "ENDPAD        : O\n",
      "ENDPAD        : O\n",
      "ENDPAD        : O\n",
      "ENDPAD        : O\n",
      "ENDPAD        : O\n",
      "ENDPAD        : O\n",
      "ENDPAD        : O\n",
      "ENDPAD        : O\n",
      "ENDPAD        : O\n",
      "ENDPAD        : O\n",
      "ENDPAD        : O\n",
      "ENDPAD        : O\n",
      "ENDPAD        : O\n",
      "ENDPAD        : O\n",
      "ENDPAD        : O\n",
      "ENDPAD        : O\n",
      "ENDPAD        : O\n",
      "ENDPAD        : O\n",
      "ENDPAD        : O\n",
      "ENDPAD        : O\n",
      "ENDPAD        : O\n",
      "ENDPAD        : O\n",
      "ENDPAD        : O\n",
      "ENDPAD        : O\n",
      "ENDPAD        : O\n",
      "ENDPAD        : O\n",
      "ENDPAD        : O\n",
      "ENDPAD        : O\n",
      "ENDPAD        : O\n",
      "ENDPAD        : O\n",
      "ENDPAD        : O\n",
      "ENDPAD        : O\n",
      "ENDPAD        : O\n",
      "ENDPAD        : O\n",
      "ENDPAD        : O\n",
      "ENDPAD        : O\n",
      "ENDPAD        : O\n",
      "ENDPAD        : O\n",
      "ENDPAD        : O\n",
      "ENDPAD        : O\n",
      "ENDPAD        : O\n",
      "ENDPAD        : O\n",
      "ENDPAD        : O\n",
      "ENDPAD        : O\n",
      "ENDPAD        : O\n",
      "ENDPAD        : O\n",
      "ENDPAD        : O\n",
      "ENDPAD        : O\n",
      "ENDPAD        : O\n",
      "ENDPAD        : O\n",
      "ENDPAD        : O\n",
      "ENDPAD        : O\n",
      "ENDPAD        : O\n",
      "ENDPAD        : O\n",
      "ENDPAD        : O\n",
      "ENDPAD        : O\n",
      "ENDPAD        : O\n",
      "ENDPAD        : O\n",
      "ENDPAD        : O\n",
      "ENDPAD        : O\n",
      "ENDPAD        : O\n",
      "ENDPAD        : O\n",
      "ENDPAD        : O\n",
      "ENDPAD        : O\n",
      "ENDPAD        : O\n",
      "ENDPAD        : O\n",
      "ENDPAD        : O\n",
      "ENDPAD        : O\n",
      "ENDPAD        : O\n",
      "ENDPAD        : O\n",
      "ENDPAD        : O\n",
      "ENDPAD        : O\n",
      "ENDPAD        : O\n",
      "ENDPAD        : O\n",
      "ENDPAD        : O\n",
      "ENDPAD        : O\n",
      "ENDPAD        : O\n"
     ]
    },
    {
     "ename": "ImportError",
     "evalue": "`save_model` requires h5py.",
     "output_type": "error",
     "traceback": [
      "\u001b[1;31m---------------------------------------------------------------------------\u001b[0m",
      "\u001b[1;31mImportError\u001b[0m                               Traceback (most recent call last)",
      "\u001b[1;32m<ipython-input-7-5b4deb71196f>\u001b[0m in \u001b[0;36m<module>\u001b[1;34m\u001b[0m\n\u001b[0;32m     10\u001b[0m \u001b[1;31m#print(words[X_TRAIN[4][1]])\u001b[0m\u001b[1;33m\u001b[0m\u001b[1;33m\u001b[0m\u001b[1;33m\u001b[0m\u001b[0m\n\u001b[0;32m     11\u001b[0m \u001b[1;33m\u001b[0m\u001b[0m\n\u001b[1;32m---> 12\u001b[1;33m \u001b[0mmodel\u001b[0m\u001b[1;33m.\u001b[0m\u001b[0msave\u001b[0m\u001b[1;33m(\u001b[0m\u001b[1;34m'inital.model'\u001b[0m\u001b[1;33m)\u001b[0m\u001b[1;33m\u001b[0m\u001b[1;33m\u001b[0m\u001b[0m\n\u001b[0m",
      "\u001b[1;32m~\\Anaconda2\\envs\\tensorflow_cpu\\lib\\site-packages\\tensorflow\\python\\keras\\engine\\network.py\u001b[0m in \u001b[0;36msave\u001b[1;34m(self, filepath, overwrite, include_optimizer)\u001b[0m\n\u001b[0;32m   1219\u001b[0m \u001b[1;33m\u001b[0m\u001b[0m\n\u001b[0;32m   1220\u001b[0m     \u001b[1;32mfrom\u001b[0m \u001b[0mtensorflow\u001b[0m\u001b[1;33m.\u001b[0m\u001b[0mpython\u001b[0m\u001b[1;33m.\u001b[0m\u001b[0mkeras\u001b[0m\u001b[1;33m.\u001b[0m\u001b[0mmodels\u001b[0m \u001b[1;32mimport\u001b[0m \u001b[0msave_model\u001b[0m  \u001b[1;31m# pylint: disable=g-import-not-at-top\u001b[0m\u001b[1;33m\u001b[0m\u001b[1;33m\u001b[0m\u001b[0m\n\u001b[1;32m-> 1221\u001b[1;33m     \u001b[0msave_model\u001b[0m\u001b[1;33m(\u001b[0m\u001b[0mself\u001b[0m\u001b[1;33m,\u001b[0m \u001b[0mfilepath\u001b[0m\u001b[1;33m,\u001b[0m \u001b[0moverwrite\u001b[0m\u001b[1;33m,\u001b[0m \u001b[0minclude_optimizer\u001b[0m\u001b[1;33m)\u001b[0m\u001b[1;33m\u001b[0m\u001b[1;33m\u001b[0m\u001b[0m\n\u001b[0m\u001b[0;32m   1222\u001b[0m \u001b[1;33m\u001b[0m\u001b[0m\n\u001b[0;32m   1223\u001b[0m   \u001b[1;32mdef\u001b[0m \u001b[0msave_weights\u001b[0m\u001b[1;33m(\u001b[0m\u001b[0mself\u001b[0m\u001b[1;33m,\u001b[0m \u001b[0mfilepath\u001b[0m\u001b[1;33m,\u001b[0m \u001b[0moverwrite\u001b[0m\u001b[1;33m=\u001b[0m\u001b[1;32mTrue\u001b[0m\u001b[1;33m,\u001b[0m \u001b[0msave_format\u001b[0m\u001b[1;33m=\u001b[0m\u001b[1;32mNone\u001b[0m\u001b[1;33m)\u001b[0m\u001b[1;33m:\u001b[0m\u001b[1;33m\u001b[0m\u001b[1;33m\u001b[0m\u001b[0m\n",
      "\u001b[1;32m~\\Anaconda2\\envs\\tensorflow_cpu\\lib\\site-packages\\tensorflow\\python\\keras\\engine\\saving.py\u001b[0m in \u001b[0;36msave_model\u001b[1;34m(model, filepath, overwrite, include_optimizer)\u001b[0m\n\u001b[0;32m     76\u001b[0m \u001b[1;33m\u001b[0m\u001b[0m\n\u001b[0;32m     77\u001b[0m   \u001b[1;32mif\u001b[0m \u001b[0mh5py\u001b[0m \u001b[1;32mis\u001b[0m \u001b[1;32mNone\u001b[0m\u001b[1;33m:\u001b[0m\u001b[1;33m\u001b[0m\u001b[1;33m\u001b[0m\u001b[0m\n\u001b[1;32m---> 78\u001b[1;33m     \u001b[1;32mraise\u001b[0m \u001b[0mImportError\u001b[0m\u001b[1;33m(\u001b[0m\u001b[1;34m'`save_model` requires h5py.'\u001b[0m\u001b[1;33m)\u001b[0m\u001b[1;33m\u001b[0m\u001b[1;33m\u001b[0m\u001b[0m\n\u001b[0m\u001b[0;32m     79\u001b[0m \u001b[1;33m\u001b[0m\u001b[0m\n\u001b[0;32m     80\u001b[0m   \u001b[1;32mfrom\u001b[0m \u001b[0mtensorflow\u001b[0m\u001b[1;33m.\u001b[0m\u001b[0mpython\u001b[0m\u001b[1;33m.\u001b[0m\u001b[0mkeras\u001b[0m \u001b[1;32mimport\u001b[0m \u001b[0m__version__\u001b[0m \u001b[1;32mas\u001b[0m \u001b[0mkeras_version\u001b[0m  \u001b[1;31m# pylint: disable=g-import-not-at-top\u001b[0m\u001b[1;33m\u001b[0m\u001b[1;33m\u001b[0m\u001b[0m\n",
      "\u001b[1;31mImportError\u001b[0m: `save_model` requires h5py."
     ]
    }
   ],
   "source": [
    "i = 6\n",
    "p = model.predict(np.array([X_TEST[i]]))\n",
    "p = np.argmax(p, axis=-1)\n",
    "\n",
    "print(\"{:14} ({:5}): {}\".format(\"Word\", \"True\", \"Pred\"))\n",
    "for w,pred in zip(X_TEST[i],p[0]):\n",
    "    print(\"{:14}: {}\".format(words[w],tags[pred]))\n",
    "    \n",
    "#print(len(X_TRAIN[36]))\n",
    "#print(words[X_TRAIN[4][1]])\n",
    "\n",
    "model.save('inital.model')"
   ]
  },
  {
   "cell_type": "code",
   "execution_count": null,
   "metadata": {},
   "outputs": [],
   "source": []
  },
  {
   "cell_type": "code",
   "execution_count": null,
   "metadata": {},
   "outputs": [],
   "source": []
  },
  {
   "cell_type": "code",
   "execution_count": null,
   "metadata": {},
   "outputs": [],
   "source": []
  },
  {
   "cell_type": "code",
   "execution_count": null,
   "metadata": {},
   "outputs": [],
   "source": []
  },
  {
   "cell_type": "code",
   "execution_count": null,
   "metadata": {},
   "outputs": [],
   "source": []
  },
  {
   "cell_type": "code",
   "execution_count": null,
   "metadata": {},
   "outputs": [],
   "source": []
  },
  {
   "cell_type": "code",
   "execution_count": null,
   "metadata": {},
   "outputs": [],
   "source": []
  },
  {
   "cell_type": "code",
   "execution_count": null,
   "metadata": {},
   "outputs": [],
   "source": []
  }
 ],
 "metadata": {
  "kernelspec": {
   "display_name": "Python 3",
   "language": "python",
   "name": "python3"
  },
  "language_info": {
   "codemirror_mode": {
    "name": "ipython",
    "version": 3
   },
   "file_extension": ".py",
   "mimetype": "text/x-python",
   "name": "python",
   "nbconvert_exporter": "python",
   "pygments_lexer": "ipython3",
   "version": "3.6.9"
  }
 },
 "nbformat": 4,
 "nbformat_minor": 2
}
