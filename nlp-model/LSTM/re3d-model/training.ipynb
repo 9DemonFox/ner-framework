{
 "cells": [
  {
   "cell_type": "code",
   "execution_count": 6,
   "metadata": {},
   "outputs": [],
   "source": [
    "####################################\n",
    "###  Fetch data and Preprocess  ###\n",
    "\n",
    "import nltk\n",
    "from nltk.corpus.reader import *\n",
    "from nltk import flatten\n",
    "\n",
    "\n",
    "# Read the dataset \n",
    "train = ConllCorpusReader('data',\n",
    "                          're3d-train.conll',\n",
    "                          ['words', 'pos'])\n",
    "\n",
    "\n",
    "test = ConllCorpusReader('data', \n",
    "                         're3d-test.conll',\n",
    "                          ['words', 'pos'])"
   ]
  },
  {
   "cell_type": "code",
   "execution_count": 7,
   "metadata": {},
   "outputs": [
    {
     "name": "stdout",
     "output_type": "stream",
     "text": [
      "Number of training records: 765\n",
      "Number of testing records: 200\n",
      "[('Operation', 'O'), ('Steel', 'O'), ('Curtain', 'O'), ('(', 'O'), ('Arabic', 'O'), (':', 'O'), ('ا', 'O'), ('ل', 'O'), ('ح', 'O'), ('ج', 'O'), ('ا', 'O'), ('ب', 'O'), ('ا', 'O'), ('ل', 'O'), ('ف', 'O'), ('و', 'O'), ('ل', 'O'), ('ا', 'O'), ('ذ', 'O'), ('ي', 'O'), ('Al', 'O'), ('Hejab', 'O'), ('Elfulathi', 'O'), (')', 'O'), ('was', 'O'), ('a', 'O'), ('military', 'O'), ('operation', 'O'), ('executed', 'O'), ('by', 'O'), ('coalition', 'B-Organisation'), ('forces', 'I-Organisation'), ('in', 'O'), ('early', 'B-Temporal'), ('November', 'I-Temporal'), ('2005', 'I-Temporal'), ('to', 'O'), ('reduce', 'O'), ('the', 'O'), ('flow', 'O'), ('of', 'O'), ('foreign', 'B-Organisation'), ('insurgents', 'I-Organisation'), ('crossing', 'O'), ('the', 'O'), ('border', 'O'), ('and', 'O'), ('joining', 'O'), ('the', 'O'), ('Iraqi', 'B-Nationality'), ('insurgency', 'O'), ('.', 'O')]\n"
     ]
    }
   ],
   "source": [
    "##couldnt find the method to get NE so it is represented as POS\n",
    "sentences = train.tagged_sents() + test.tagged_sents()\n",
    "test_sentences = test.tagged_sents() \n",
    "\n",
    "print(\"Number of training records: \" + str(len(train.tagged_sents())))\n",
    "print(\"Number of testing records: \" + str(len(test.tagged_sents())))\n",
    "print(sentences[0])"
   ]
  },
  {
   "cell_type": "code",
   "execution_count": 8,
   "metadata": {},
   "outputs": [
    {
     "name": "stdout",
     "output_type": "stream",
     "text": [
      "biggest sentence has 154 words\n"
     ]
    }
   ],
   "source": [
    "largest_sen = max(len(sen) for sen in sentences)\n",
    "print('biggest sentence has {} words'.format(largest_sen))"
   ]
  },
  {
   "cell_type": "code",
   "execution_count": 9,
   "metadata": {},
   "outputs": [
    {
     "data": {
      "text/plain": [
       "(array([ 71., 173., 219., 202., 146.,  81.,  40.,  13.,  10.,   5.,   3.,\n",
       "          1.,   0.,   0.,   0.,   0.,   0.,   0.,   0.,   1.]),\n",
       " array([  1.  ,   8.65,  16.3 ,  23.95,  31.6 ,  39.25,  46.9 ,  54.55,\n",
       "         62.2 ,  69.85,  77.5 ,  85.15,  92.8 , 100.45, 108.1 , 115.75,\n",
       "        123.4 , 131.05, 138.7 , 146.35, 154.  ]),\n",
       " <a list of 20 Patch objects>)"
      ]
     },
     "execution_count": 9,
     "metadata": {},
     "output_type": "execute_result"
    },
    {
     "data": {
      "image/png": "[encoded data removed]",
      "text/plain": [
       "<Figure size 432x288 with 1 Axes>"
      ]
     },
     "metadata": {},
     "output_type": "display_data"
    }
   ],
   "source": [
    "%matplotlib inline\n",
    "import matplotlib.pyplot as plt\n",
    "plt.style.use(\"ggplot\")\n",
    "\n",
    "plt.hist([len(sen) for sen in sentences], bins=20)"
   ]
  },
  {
   "cell_type": "code",
   "execution_count": 10,
   "metadata": {},
   "outputs": [
    {
     "name": "stdout",
     "output_type": "stream",
     "text": [
      "50\n",
      "['The', 'United', 'States', 'strongly', 'condemns', 'the', 'horrific', 'attacks', 'today', 'in', 'the', 'towns', 'of', 'Jabla', 'in', 'the', 'northwest', 'province', 'of', 'Latakia', ',', 'and', 'the', 'port', 'city', 'of', 'Tartus', ',', 'for', 'which', 'Da', '’', 'esh', 'has', 'claimed', 'responsibility', 'and', 'where', 'more', 'than', '60', 'civilians', 'were', 'killed', 'and', 'injured', 'in', 'multiple', 'bombings', 'that']\n"
     ]
    }
   ],
   "source": [
    "max_len = 50\n",
    "\n",
    "X = []\n",
    "padded_sent = []\n",
    "x_index = 0\n",
    "for s in sentences:\n",
    "    for i in range(max_len):\n",
    "        if i >= len(s):\n",
    "            padded_sent.append(\"xxxPADDINGxxx\")\n",
    "        else:\n",
    "            padded_sent.append(s[i][0])\n",
    "    \n",
    "    X.append(padded_sent)\n",
    "    padded_sent = []\n",
    "print (len(X[53]))\n",
    "print(X[53])"
   ]
  },
  {
   "cell_type": "code",
   "execution_count": 11,
   "metadata": {},
   "outputs": [
    {
     "name": "stdout",
     "output_type": "stream",
     "text": [
      "21\n"
     ]
    }
   ],
   "source": [
    "tags = []\n",
    "for s in sentences:\n",
    "    for w in s:\n",
    "        tags.append(w[1])\n",
    "tags = list(set(tags))\n",
    "num_tags = len(tags)\n",
    "\n",
    "print(num_tags)"
   ]
  },
  {
   "cell_type": "code",
   "execution_count": 12,
   "metadata": {},
   "outputs": [
    {
     "name": "stderr",
     "output_type": "stream",
     "text": [
      "Using TensorFlow backend.\n"
     ]
    }
   ],
   "source": [
    "from keras.preprocessing.sequence import pad_sequences\n",
    "from keras.utils import to_categorical\n",
    "\n",
    "tags2index = {t:i for i,t in enumerate(tags)}\n",
    "y = [[tags2index[w[1]] for w in s] for s in sentences]\n",
    "y = pad_sequences(maxlen=max_len, sequences=y, padding=\"post\", value=tags2index[\"O\"])\n",
    "\n",
    "y = [to_categorical(i, num_classes = num_tags) for i in y]"
   ]
  },
  {
   "cell_type": "code",
   "execution_count": 13,
   "metadata": {},
   "outputs": [
    {
     "name": "stdout",
     "output_type": "stream",
     "text": [
      "[1631, 3745, 204, 3149, 3674, 2393, 1559, 2974, 1033, 2009, 393, 3548, 3381, 1559, 2383, 2980, 862, 2520, 2520, 2520, 2520, 2520, 2520, 2520, 2520, 2520, 2520, 2520, 2520, 2520, 2520, 2520, 2520, 2520, 2520, 2520, 2520, 2520, 2520, 2520, 2520, 2520, 2520, 2520, 2520, 2520, 2520, 2520, 2520, 2520]\n"
     ]
    }
   ],
   "source": [
    "words = []\n",
    "for s in X:\n",
    "    for w in s:\n",
    "        words.append(w)\n",
    "unique_words = list(set(words))\n",
    "num_words = len(unique_words)\n",
    "\n",
    "words2index = { w: i for i,w in enumerate(unique_words) }\n",
    "X = [[words2index[w] for w in s] for s in X]\n",
    "# X = pad_sequences(maxlen=max_len, sequences=X, padding=\"post\", value=tags2index[\"xxxPADDINGxxx\"])\n",
    "print(X[1])\n",
    "\n",
    "from keras.models import Model, Input\n",
    "from keras.layers.merge import add\n",
    "from keras.layers import LSTM, Embedding, Dense, TimeDistributed, Dropout, Bidirectional, Lambda\n",
    "\n",
    "from sklearn.model_selection import train_test_split\n",
    "X_TRAIN, X_TEST, Y_TRAIN, Y_TEST = train_test_split(X,y, test_size=0.1)"
   ]
  },
  {
   "cell_type": "code",
   "execution_count": 14,
   "metadata": {},
   "outputs": [],
   "source": [
    "from keras.models import Model, Input, Sequential\n",
    "from keras.layers.merge import add\n",
    "from keras.layers import LSTM, Embedding, Dense, TimeDistributed, Dropout, Bidirectional, Lambda, Flatten\n",
    "import numpy as np\n",
    "\n",
    "input = Input(shape=(max_len,))\n",
    "embedding = Embedding(input_dim = num_words, output_dim = 70, input_length = max_len)(input)\n",
    "\n",
    "x = Bidirectional(LSTM(units=512, return_sequences=True,\n",
    "                       recurrent_dropout=0.2, dropout=0.2))(embedding)\n",
    "x_rnn = Bidirectional(LSTM(units=512, return_sequences=False,\n",
    "                           recurrent_dropout=0.2, dropout=0.2))(x)\n",
    "x = add([x, x_rnn])  # residual connection to the first biLSTM\n",
    "out = TimeDistributed(Dense(num_tags, activation=\"softmax\"))(x)\n",
    "model = Model(input, out)\n",
    "model.compile(optimizer=\"adam\", loss=\"sparse_categorical_crossentropy\", metrics=[\"accuracy\"])\n",
    "\n",
    "\n",
    "model.compile('adam', 'binary_crossentropy', metrics=['accuracy'])\n",
    "\n",
    "X_TRAIN, X_TEST = np.array(X_TRAIN), np.array(X_TEST)"
   ]
  },
  {
   "cell_type": "code",
   "execution_count": 15,
   "metadata": {},
   "outputs": [
    {
     "name": "stdout",
     "output_type": "stream",
     "text": [
      "Training...\n"
     ]
    },
    {
     "name": "stderr",
     "output_type": "stream",
     "text": [
      "/opt/anaconda3/lib/python3.7/site-packages/tensorflow_core/python/framework/indexed_slices.py:424: UserWarning: Converting sparse IndexedSlices to a dense Tensor of unknown shape. This may consume a large amount of memory.\n",
      "  \"Converting sparse IndexedSlices to a dense Tensor of unknown shape. \"\n"
     ]
    },
    {
     "name": "stdout",
     "output_type": "stream",
     "text": [
      "Train on 781 samples, validate on 87 samples\n",
      "Epoch 1/4\n",
      "781/781 [==============================] - 82s 105ms/step - loss: 0.0745 - accuracy: 0.9804 - val_loss: 0.0550 - val_accuracy: 0.9833\n",
      "Epoch 2/4\n",
      "781/781 [==============================] - 79s 101ms/step - loss: 0.0520 - accuracy: 0.9847 - val_loss: 0.0533 - val_accuracy: 0.9833\n",
      "Epoch 3/4\n",
      "781/781 [==============================] - 79s 101ms/step - loss: 0.0472 - accuracy: 0.9854 - val_loss: 0.0514 - val_accuracy: 0.9836\n",
      "Epoch 4/4\n",
      "781/781 [==============================] - 78s 100ms/step - loss: 0.0456 - accuracy: 0.9857 - val_loss: 0.0511 - val_accuracy: 0.9839\n"
     ]
    },
    {
     "data": {
      "text/plain": [
       "<keras.callbacks.callbacks.History at 0x1a49a91e90>"
      ]
     },
     "execution_count": 15,
     "metadata": {},
     "output_type": "execute_result"
    }
   ],
   "source": [
    "batch_size = 32\n",
    "\n",
    "print('Training...')\n",
    "model.fit(X_TRAIN, np.array(Y_TRAIN),\n",
    "          validation_split=0.1,\n",
    "          batch_size=batch_size,\n",
    "          epochs=4)"
   ]
  },
  {
   "cell_type": "code",
   "execution_count": 16,
   "metadata": {},
   "outputs": [
    {
     "name": "stdout",
     "output_type": "stream",
     "text": [
      "Word           (True ): Pred\n",
      "Tobias        : O\n",
      "Ellwood       : O\n",
      ",             : O\n",
      "Minister      : O\n",
      "for           : O\n",
      "the           : O\n",
      "Middle        : O\n",
      "East          : O\n",
      "welcomes      : O\n",
      "the           : O\n",
      "liberation    : O\n",
      "of            : O\n",
      "Sinjar        : O\n",
      "and           : O\n",
      "reiterates    : O\n",
      "support       : O\n",
      "for           : O\n",
      "the           : O\n",
      "Government    : O\n",
      "of            : O\n",
      "Iraq          : O\n",
      "in            : O\n",
      "the           : O\n",
      "fight         : O\n",
      "against       : O\n",
      "ISIL          : O\n",
      "xxxPADDINGxxx : O\n",
      "xxxPADDINGxxx : O\n",
      "xxxPADDINGxxx : O\n",
      "xxxPADDINGxxx : O\n",
      "xxxPADDINGxxx : O\n",
      "xxxPADDINGxxx : O\n",
      "xxxPADDINGxxx : O\n",
      "xxxPADDINGxxx : O\n",
      "xxxPADDINGxxx : O\n",
      "xxxPADDINGxxx : O\n",
      "xxxPADDINGxxx : O\n",
      "xxxPADDINGxxx : O\n",
      "xxxPADDINGxxx : O\n",
      "xxxPADDINGxxx : O\n",
      "xxxPADDINGxxx : O\n",
      "xxxPADDINGxxx : O\n",
      "xxxPADDINGxxx : O\n",
      "xxxPADDINGxxx : O\n",
      "xxxPADDINGxxx : O\n",
      "xxxPADDINGxxx : O\n",
      "xxxPADDINGxxx : O\n",
      "xxxPADDINGxxx : O\n",
      "xxxPADDINGxxx : O\n",
      "xxxPADDINGxxx : O\n",
      "Saved model to disk\n"
     ]
    }
   ],
   "source": [
    "from keras.models import model_from_json\n",
    "\n",
    "i = 27\n",
    "p = model.predict(np.array([X_TEST[i]]))\n",
    "p = np.argmax(p, axis=-1)\n",
    "\n",
    "print(\"{:14} ({:5}): {}\".format(\"Word\", \"True\", \"Pred\"))\n",
    "for w,pred in zip(X_TEST[i],p[0]):\n",
    "    print(\"{:14}: {}\".format(unique_words[w],tags[pred]))\n",
    "    \n",
    "#print(len(X_TRAIN[36]))\n",
    "#print(words[X_TRAIN[4][1]])\n",
    "\n",
    "# model.save('inital.model')\n",
    "\n",
    "# serialize model to JSON\n",
    "model_json = model.to_json()\n",
    "with open(\"model.json\", \"w\") as json_file:\n",
    "    json_file.write(model_json)\n",
    "# serialize weights to HDF5\n",
    "model.save_weights(\"model.h5\")\n",
    "print(\"Saved model to disk\")"
   ]
  },
  {
   "cell_type": "code",
   "execution_count": null,
   "metadata": {},
   "outputs": [],
   "source": []
  }
 ],
 "metadata": {
  "kernelspec": {
   "display_name": "Python 3",
   "language": "python",
   "name": "python3"
  },
  "language_info": {
   "codemirror_mode": {
    "name": "ipython",
    "version": 3
   },
   "file_extension": ".py",
   "mimetype": "text/x-python",
   "name": "python",
   "nbconvert_exporter": "python",
   "pygments_lexer": "ipython3",
   "version": "3.7.4"
  }
 },
 "nbformat": 4,
 "nbformat_minor": 2
}
