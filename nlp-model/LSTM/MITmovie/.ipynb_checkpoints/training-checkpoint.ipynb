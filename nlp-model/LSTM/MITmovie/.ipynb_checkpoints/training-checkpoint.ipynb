{
 "cells": [
  {
   "cell_type": "code",
   "execution_count": 1,
   "metadata": {},
   "outputs": [],
   "source": [
    "####################################\n",
    "###  Fetch data and Preprocess  ###\n",
    "\n",
    "import nltk\n",
    "from nltk.corpus.reader import *\n",
    "from nltk import flatten\n",
    "\n",
    "\n",
    "# Read the dataset \n",
    "train = ConllCorpusReader('data/MITMovieCorpus',\n",
    "                          'train.txt',\n",
    "                          ['pos', 'words'])\n",
    "\n",
    "\n",
    "test = ConllCorpusReader('data/MITMovieCorpus', \n",
    "                         'test.txt',\n",
    "                          ['pos', 'words'])"
   ]
  },
  {
   "cell_type": "code",
   "execution_count": 2,
   "metadata": {},
   "outputs": [
    {
     "name": "stdout",
     "output_type": "stream",
     "text": [
      "Number of training records: 7816\n",
      "Number of testing records: 1953\n",
      "[('steve', 'B-Actor'), ('mcqueen', 'I-Actor'), ('provided', 'O'), ('a', 'O'), ('thrilling', 'B-Plot'), ('motorcycle', 'I-Plot'), ('chase', 'I-Plot'), ('in', 'I-Plot'), ('this', 'I-Plot'), ('greatest', 'B-Opinion'), ('of', 'I-Opinion'), ('all', 'I-Opinion'), ('ww', 'B-Plot'), ('2', 'I-Plot'), ('prison', 'I-Plot'), ('escape', 'I-Plot'), ('movies', 'I-Plot')]\n"
     ]
    }
   ],
   "source": [
    "##couldnt find the method to get NE so it is represented as POS\n",
    "sentences = train.tagged_sents() + test.tagged_sents()\n",
    "test_sentences = test.tagged_sents() \n",
    "\n",
    "print(\"Number of training records: \" + str(len(train.tagged_sents())))\n",
    "print(\"Number of testing records: \" + str(len(test.tagged_sents())))\n",
    "print(sentences[0])"
   ]
  },
  {
   "cell_type": "code",
   "execution_count": 3,
   "metadata": {},
   "outputs": [
    {
     "name": "stdout",
     "output_type": "stream",
     "text": [
      "biggest sentence has 76 words\n"
     ]
    }
   ],
   "source": [
    "largest_sen = max(len(sen) for sen in sentences)\n",
    "print('biggest sentence has {} words'.format(largest_sen))"
   ]
  },
  {
   "cell_type": "code",
   "execution_count": 4,
   "metadata": {},
   "outputs": [
    {
     "data": {
      "text/plain": [
       "(array([1.600e+01, 1.140e+02, 1.740e+02, 3.122e+03, 3.341e+03, 1.313e+03,\n",
       "        9.220e+02, 4.570e+02, 1.320e+02, 7.100e+01, 5.100e+01, 2.800e+01,\n",
       "        1.600e+01, 5.000e+00, 1.000e+00, 2.000e+00, 1.000e+00, 1.000e+00,\n",
       "        1.000e+00, 1.000e+00]),\n",
       " array([ 3.  ,  6.65, 10.3 , 13.95, 17.6 , 21.25, 24.9 , 28.55, 32.2 ,\n",
       "        35.85, 39.5 , 43.15, 46.8 , 50.45, 54.1 , 57.75, 61.4 , 65.05,\n",
       "        68.7 , 72.35, 76.  ]),\n",
       " <a list of 20 Patch objects>)"
      ]
     },
     "execution_count": 4,
     "metadata": {},
     "output_type": "execute_result"
    },
    {
     "data": {
      "image/png": "[encoded data removed]",
      "text/plain": [
       "<Figure size 432x288 with 1 Axes>"
      ]
     },
     "metadata": {},
     "output_type": "display_data"
    }
   ],
   "source": [
    "%matplotlib inline\n",
    "import matplotlib.pyplot as plt\n",
    "plt.style.use(\"ggplot\")\n",
    "\n",
    "plt.hist([len(sen) for sen in sentences], bins=20)"
   ]
  },
  {
   "cell_type": "raw",
   "metadata": {},
   "source": [
    "As seen in the graph above, majority of the sentences contain less than 40 words even though the there is one sentences that contains  words. We will truncate all sentences larger than 30 words and the sentences that hav less than 30 words will be padded. This is done because, the input that is passed into lstm model has to be of same length. If all sentences are forced to be 334len then most of the words will just be padding."
   ]
  },
  {
   "cell_type": "code",
   "execution_count": 5,
   "metadata": {},
   "outputs": [
    {
     "name": "stdout",
     "output_type": "stream",
     "text": [
      "30\n",
      "['i', 'm', 'thinking', 'of', 'the', 'epic', 'movie', 'based', 'on', 'the', 'book', 'by', 'j', 'r', 'r', 'tolkien', 'featuring', 'hobbits', 'wizards', 'elves', 'and', 'a', 'dark', 'magic', 'xxxPADDINGxxx', 'xxxPADDINGxxx', 'xxxPADDINGxxx', 'xxxPADDINGxxx', 'xxxPADDINGxxx', 'xxxPADDINGxxx']\n"
     ]
    }
   ],
   "source": [
    "max_len = 30\n",
    "\n",
    "X = []\n",
    "padded_sent = []\n",
    "x_index = 0\n",
    "for s in sentences:\n",
    "    for i in range(max_len):\n",
    "        if i >= len(s):\n",
    "            padded_sent.append(\"xxxPADDINGxxx\")\n",
    "        else:\n",
    "            padded_sent.append(s[i][0])\n",
    "    \n",
    "    X.append(padded_sent)\n",
    "    padded_sent = []\n",
    "print (len(X[53]))\n",
    "print(X[53])"
   ]
  },
  {
   "cell_type": "raw",
   "metadata": {},
   "source": [
    "For the named entities, we will encode them as one hot vectors because they are the values that our model will output to"
   ]
  },
  {
   "cell_type": "code",
   "execution_count": 6,
   "metadata": {},
   "outputs": [
    {
     "name": "stdout",
     "output_type": "stream",
     "text": [
      "25\n"
     ]
    }
   ],
   "source": [
    "tags = []\n",
    "for s in sentences:\n",
    "    for w in s:\n",
    "        tags.append(w[1])\n",
    "tags = list(set(tags))\n",
    "num_tags = len(tags)\n",
    "\n",
    "print(num_tags)"
   ]
  },
  {
   "cell_type": "code",
   "execution_count": 7,
   "metadata": {},
   "outputs": [
    {
     "name": "stderr",
     "output_type": "stream",
     "text": [
      "Using TensorFlow backend.\n"
     ]
    }
   ],
   "source": [
    "from keras.preprocessing.sequence import pad_sequences\n",
    "from keras.utils import to_categorical\n",
    "\n",
    "tags2index = {t:i for i,t in enumerate(tags)}\n",
    "y = [[tags2index[w[1]] for w in s] for s in sentences]\n",
    "y = pad_sequences(maxlen=max_len, sequences=y, padding=\"post\", value=tags2index[\"O\"])\n",
    "\n",
    "y = [to_categorical(i, num_classes = num_tags) for i in y]"
   ]
  },
  {
   "cell_type": "markdown",
   "metadata": {},
   "source": [
    "We want to change our words into numbers actually vectors to be specific (this is also also called embedding). Keras has a functional to do this but it requires us to map each unique word to a unique integer which will be passed into the function. The function takes:\n",
    "\n",
    "__input_dim:__ The total no. of unique words in our corpus. <br>\n",
    "__output_dim:__ Size of the vector that we want. <br>\n",
    "__input_length:__ Size of each spicific sentence (60). "
   ]
  },
  {
   "cell_type": "code",
   "execution_count": 8,
   "metadata": {},
   "outputs": [
    {
     "name": "stdout",
     "output_type": "stream",
     "text": [
      "[9122, 7079, 8779, 9414, 9417, 2090, 7305, 8088, 2675, 4826, 9947, 2534, 10160, 5203, 8700, 3456, 11510, 4559, 9947, 2452, 572, 3705, 1552, 8955, 6481, 1757, 6763, 6763, 6763, 6763]\n"
     ]
    }
   ],
   "source": [
    "words = []\n",
    "for s in X:\n",
    "    for w in s:\n",
    "        words.append(w)\n",
    "unique_words = list(set(words))\n",
    "num_words = len(unique_words)\n",
    "\n",
    "words2index = { w: i for i,w in enumerate(unique_words) }\n",
    "X = [[words2index[w] for w in s] for s in X]\n",
    "# X = pad_sequences(maxlen=max_len, sequences=X, padding=\"post\", value=tags2index[\"xxxPADDINGxxx\"])\n",
    "print(X[1])\n",
    "\n",
    "from keras.models import Model, Input\n",
    "from keras.layers.merge import add\n",
    "from keras.layers import LSTM, Embedding, Dense, TimeDistributed, Dropout, Bidirectional, Lambda\n",
    "\n",
    "from sklearn.model_selection import train_test_split\n",
    "X_TRAIN, X_TEST, Y_TRAIN, Y_TEST = train_test_split(X,y, test_size=0.1)\n"
   ]
  },
  {
   "cell_type": "code",
   "execution_count": 9,
   "metadata": {},
   "outputs": [],
   "source": [
    "from keras.models import Model, Input, Sequential\n",
    "from keras.layers.merge import add\n",
    "from keras.layers import LSTM, Embedding, Dense, TimeDistributed, Dropout, Bidirectional, Lambda, Flatten\n",
    "import numpy as np\n",
    "\n",
    "input = Input(shape=(max_len,))\n",
    "embedding = Embedding(input_dim = num_words, output_dim = 70, input_length = max_len)(input)\n",
    "\n",
    "x = Bidirectional(LSTM(units=512, return_sequences=True,\n",
    "                       recurrent_dropout=0.2, dropout=0.2))(embedding)\n",
    "x_rnn = Bidirectional(LSTM(units=512, return_sequences=False,\n",
    "                           recurrent_dropout=0.2, dropout=0.2))(x)\n",
    "x = add([x, x_rnn])  # residual connection to the first biLSTM\n",
    "out = TimeDistributed(Dense(num_tags, activation=\"softmax\"))(x)\n",
    "model = Model(input, out)\n",
    "model.compile(optimizer=\"adam\", loss=\"sparse_categorical_crossentropy\", metrics=[\"accuracy\"])\n",
    "\n",
    "\n",
    "model.compile('adam', 'binary_crossentropy', metrics=['accuracy'])\n",
    "\n",
    "X_TRAIN, X_TEST = np.array(X_TRAIN), np.array(X_TEST)\n",
    "\n",
    "\n",
    "# print('x_train shape:', X_TRAIN.shape)\n",
    "# print('x_test shape:', X_TEST.shape)\n",
    "# print('out = ', out.shape)\n",
    "\n",
    "# print()\n",
    "# print()\n",
    "\n",
    "# print(X_TRAIN)\n",
    "\n",
    "# print()\n",
    "# print()\n",
    "# print()\n",
    "\n",
    "\n",
    "# print(np.array(Y_TRAIN))"
   ]
  },
  {
   "cell_type": "code",
   "execution_count": 10,
   "metadata": {},
   "outputs": [
    {
     "name": "stdout",
     "output_type": "stream",
     "text": [
      "Training...\n"
     ]
    },
    {
     "name": "stderr",
     "output_type": "stream",
     "text": [
      "/opt/anaconda3/lib/python3.7/site-packages/tensorflow_core/python/framework/indexed_slices.py:424: UserWarning: Converting sparse IndexedSlices to a dense Tensor of unknown shape. This may consume a large amount of memory.\n",
      "  \"Converting sparse IndexedSlices to a dense Tensor of unknown shape. \"\n"
     ]
    },
    {
     "name": "stdout",
     "output_type": "stream",
     "text": [
      "Train on 7912 samples, validate on 880 samples\n",
      "Epoch 1/4\n",
      "7912/7912 [==============================] - 446s 56ms/step - loss: 0.0619 - accuracy: 0.9789 - val_loss: 0.0507 - val_accuracy: 0.9827\n",
      "Epoch 2/4\n",
      "7912/7912 [==============================] - 2014s 255ms/step - loss: 0.0398 - accuracy: 0.9872 - val_loss: 0.0365 - val_accuracy: 0.9881\n",
      "Epoch 3/4\n",
      "7912/7912 [==============================] - 445s 56ms/step - loss: 0.0278 - accuracy: 0.9908 - val_loss: 0.0300 - val_accuracy: 0.9899\n",
      "Epoch 4/4\n",
      "7912/7912 [==============================] - 451s 57ms/step - loss: 0.0226 - accuracy: 0.9923 - val_loss: 0.0280 - val_accuracy: 0.9906\n"
     ]
    },
    {
     "data": {
      "text/plain": [
       "<keras.callbacks.callbacks.History at 0x1a1a091c90>"
      ]
     },
     "execution_count": 10,
     "metadata": {},
     "output_type": "execute_result"
    }
   ],
   "source": [
    "batch_size = 32\n",
    "\n",
    "print('Training...')\n",
    "model.fit(X_TRAIN, np.array(Y_TRAIN),\n",
    "          validation_split=0.1,\n",
    "          batch_size=batch_size,\n",
    "          epochs=4)"
   ]
  },
  {
   "cell_type": "code",
   "execution_count": 11,
   "metadata": {},
   "outputs": [
    {
     "name": "stdout",
     "output_type": "stream",
     "text": [
      "Word           (True ): Pred\n",
      "this          : O\n",
      "2011          : B-Year\n",
      "romantic      : B-Genre\n",
      "comedy        : I-Genre\n",
      "was           : O\n",
      "written       : O\n",
      "by            : O\n",
      "and           : O\n",
      "stars         : O\n",
      "kristen       : B-Actor\n",
      "wiig          : I-Actor\n",
      "as            : O\n",
      "a             : B-Plot\n",
      "woman         : I-Plot\n",
      "whose         : I-Plot\n",
      "life          : I-Plot\n",
      "begins        : I-Plot\n",
      "to            : I-Plot\n",
      "unravel       : I-Plot\n",
      "as            : I-Plot\n",
      "her           : I-Plot\n",
      "friend        : I-Plot\n",
      "is            : I-Plot\n",
      "preparing     : I-Plot\n",
      "to            : I-Plot\n",
      "get           : I-Plot\n",
      "married       : I-Plot\n",
      "xxxPADDINGxxx : O\n",
      "xxxPADDINGxxx : O\n",
      "xxxPADDINGxxx : O\n",
      "Saved model to disk\n"
     ]
    }
   ],
   "source": [
    "from keras.models import model_from_json\n",
    "\n",
    "i = 27\n",
    "p = model.predict(np.array([X_TEST[i]]))\n",
    "p = np.argmax(p, axis=-1)\n",
    "\n",
    "print(\"{:14} ({:5}): {}\".format(\"Word\", \"True\", \"Pred\"))\n",
    "for w,pred in zip(X_TEST[i],p[0]):\n",
    "    print(\"{:14}: {}\".format(unique_words[w],tags[pred]))\n",
    "    \n",
    "#print(len(X_TRAIN[36]))\n",
    "#print(words[X_TRAIN[4][1]])\n",
    "\n",
    "# model.save('inital.model')\n",
    "\n",
    "# serialize model to JSON\n",
    "model_json = model.to_json()\n",
    "with open(\"model.json\", \"w\") as json_file:\n",
    "    json_file.write(model_json)\n",
    "# serialize weights to HDF5\n",
    "model.save_weights(\"model.h5\")\n",
    "print(\"Saved model to disk\")"
   ]
  },
  {
   "cell_type": "code",
   "execution_count": 13,
   "metadata": {},
   "outputs": [
    {
     "name": "stdout",
     "output_type": "stream",
     "text": [
      "Loaded model from disk\n"
     ]
    }
   ],
   "source": [
    "# load json and create model\n",
    "json_file = open('model.json', 'r')\n",
    "loaded_model_json = json_file.read()\n",
    "json_file.close()\n",
    "loaded_model = model_from_json(loaded_model_json)\n",
    "# load weights into new model\n",
    "loaded_model.load_weights(\"model.h5\")\n",
    "print(\"Loaded model from disk\")"
   ]
  },
  {
   "cell_type": "code",
   "execution_count": 14,
   "metadata": {},
   "outputs": [
    {
     "name": "stdout",
     "output_type": "stream",
     "text": [
      "Word           (True ): Pred\n",
      "this          : O\n",
      "2011          : B-Year\n",
      "romantic      : B-Genre\n",
      "comedy        : I-Genre\n",
      "was           : O\n",
      "written       : O\n",
      "by            : O\n",
      "and           : O\n",
      "stars         : O\n",
      "kristen       : B-Actor\n",
      "wiig          : I-Actor\n",
      "as            : O\n",
      "a             : B-Plot\n",
      "woman         : I-Plot\n",
      "whose         : I-Plot\n",
      "life          : I-Plot\n",
      "begins        : I-Plot\n",
      "to            : I-Plot\n",
      "unravel       : I-Plot\n",
      "as            : I-Plot\n",
      "her           : I-Plot\n",
      "friend        : I-Plot\n",
      "is            : I-Plot\n",
      "preparing     : I-Plot\n",
      "to            : I-Plot\n",
      "get           : I-Plot\n",
      "married       : I-Plot\n",
      "xxxPADDINGxxx : O\n",
      "xxxPADDINGxxx : O\n",
      "xxxPADDINGxxx : O\n"
     ]
    }
   ],
   "source": [
    "i = 27\n",
    "p = loaded_model.predict(np.array([X_TEST[i]]))\n",
    "p = np.argmax(p, axis=-1)\n",
    "\n",
    "print(\"{:14} ({:5}): {}\".format(\"Word\", \"True\", \"Pred\"))\n",
    "for w,pred in zip(X_TEST[i],p[0]):\n",
    "    print(\"{:14}: {}\".format(unique_words[w],tags[pred]))"
   ]
  },
  {
   "cell_type": "code",
   "execution_count": 19,
   "metadata": {},
   "outputs": [],
   "source": [
    "import json\n",
    "\n",
    "########WRITE AS JSON\n",
    "with open(\"dictionary.json\", \"w\") as dict_file:\n",
    "    dict_file.write( '[' );\n",
    "    for i in range(num_words):\n",
    "        dict_file.write(json.dumps({\"word\": unique_words[i], \"index\": words2index[unique_words[i]]}))\n",
    "        \n",
    "        if (i < num_words - 1):\n",
    "            dict_file.write( ', ' );\n",
    "    dict_file.write( ']' );\n",
    "    dict_file.close()"
   ]
  },
  {
   "cell_type": "code",
   "execution_count": 26,
   "metadata": {},
   "outputs": [],
   "source": [
    "with open(\"target.txt\", \"w\") as target_file:\n",
    "    for i in range(len(tags)):\n",
    "        target_file.write( str(tags[i]) )\n",
    "        if(i < len(tags) - 1):\n",
    "            target_file.write( ', ' );"
   ]
  }
 ],
 "metadata": {
  "kernelspec": {
   "display_name": "Python 3",
   "language": "python",
   "name": "python3"
  },
  "language_info": {
   "codemirror_mode": {
    "name": "ipython",
    "version": 3
   },
   "file_extension": ".py",
   "mimetype": "text/x-python",
   "name": "python",
   "nbconvert_exporter": "python",
   "pygments_lexer": "ipython3",
   "version": "3.7.4"
  }
 },
 "nbformat": 4,
 "nbformat_minor": 2
}
