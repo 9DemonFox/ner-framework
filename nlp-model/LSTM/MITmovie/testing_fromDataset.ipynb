{
 "cells": [
  {
   "cell_type": "code",
   "execution_count": 1,
   "metadata": {},
   "outputs": [
    {
     "name": "stderr",
     "output_type": "stream",
     "text": [
      "Using TensorFlow backend.\n"
     ]
    },
    {
     "name": "stdout",
     "output_type": "stream",
     "text": [
      "Loaded model from disk\n"
     ]
    }
   ],
   "source": [
    "from keras.models import Model, Input, Sequential\n",
    "from keras.layers.merge import add\n",
    "from keras.layers import LSTM, Embedding, Dense, TimeDistributed, Dropout, Bidirectional, Lambda, Flatten\n",
    "from keras.models import model_from_json\n",
    "import numpy as np\n",
    "\n",
    "# load json and create model\n",
    "json_file = open('model.json', 'r')\n",
    "loaded_model_json = json_file.read()\n",
    "json_file.close()\n",
    "loaded_model = model_from_json(loaded_model_json)\n",
    "# load weights into new model\n",
    "loaded_model.load_weights(\"model.h5\")\n",
    "print(\"Loaded model from disk\")"
   ]
  },
  {
   "cell_type": "code",
   "execution_count": 2,
   "metadata": {},
   "outputs": [],
   "source": [
    "with open(\"X_TEST.txt\", \"r\") as xtest_file:\n",
    "    x_test = xtest_file.read()\n",
    "xtest_file.close() \n",
    "\n",
    "x_test = x_test.split(' ')\n",
    "new_xTest = []\n",
    "for x in x_test:\n",
    "    if x != '':\n",
    "        val = int(x)\n",
    "        new_xTest.append(val)\n",
    "        \n",
    "x_test = new_xTest\n",
    "\n",
    "X_TEST = []\n",
    "temp = []\n",
    "count = 1\n",
    "for i in x_test:\n",
    "    if count <= 30:\n",
    "        temp.append(i)\n",
    "    else:\n",
    "        X_TEST.append(temp)\n",
    "        temp = []\n",
    "        temp.append(i)\n",
    "        count = 1\n",
    "    count = count + 1\n",
    "        \n",
    "with open(\"Y_TEST.txt\", \"r\") as ytest_file:\n",
    "    y_test = ytest_file.read()\n",
    "ytest_file.close() \n",
    "\n",
    "y_test = y_test.split(' ')\n",
    "new_yTest = []\n",
    "for y in y_test:\n",
    "    if y != '':\n",
    "        val = float(y)\n",
    "        new_yTest.append(val)\n",
    "        \n",
    "y_test = new_yTest\n",
    "\n",
    "words = []\n",
    "temp = []\n",
    "count = 1    \n",
    "for i in y_test:\n",
    "    if count <= 25:\n",
    "        temp.append(i)\n",
    "    else:\n",
    "        words.append(temp)\n",
    "        temp = []\n",
    "        temp.append(i)\n",
    "        count = 1\n",
    "    count = count + 1\n",
    "\n",
    "sent = []\n",
    "temp = []\n",
    "count = 1    \n",
    "for i in words:\n",
    "    if count <= 30:\n",
    "        temp.append(i)\n",
    "    else:\n",
    "        sent.append(temp)\n",
    "        temp = []\n",
    "        temp.append(i)\n",
    "        count = 1\n",
    "    count = count + 1\n",
    "\n",
    "Y_TEST = sent"
   ]
  },
  {
   "cell_type": "code",
   "execution_count": 3,
   "metadata": {},
   "outputs": [],
   "source": [
    "import json\n",
    "\n",
    "with open(\"dictionary.json\", \"r\") as dict_file:\n",
    "    word2index = json.load(dict_file)\n",
    "dict_file.close() "
   ]
  },
  {
   "cell_type": "code",
   "execution_count": 4,
   "metadata": {},
   "outputs": [],
   "source": [
    "with open(\"target.txt\", \"r\") as target_file:\n",
    "    targets = target_file.read()\n",
    "target_file.close() \n",
    "\n",
    "targets = targets.split(', ')"
   ]
  },
  {
   "cell_type": "code",
   "execution_count": 18,
   "metadata": {},
   "outputs": [
    {
     "name": "stdout",
     "output_type": "stream",
     "text": [
      "976/976 [==============================] - 17s 17ms/step\n"
     ]
    }
   ],
   "source": [
    "pred = loaded_model.predict( [X_TEST] , verbose = 1)"
   ]
  },
  {
   "cell_type": "code",
   "execution_count": 25,
   "metadata": {},
   "outputs": [],
   "source": [
    "Y_TEST = np.array(Y_TEST)\n",
    "new_sent = []\n",
    "for j in Y_TEST:\n",
    "    for k in j:\n",
    "        for l in range(len(k)):\n",
    "            if(k[l] > 0):\n",
    "                new_sent.append(l)\n",
    "new_ytest = []\n",
    "temp = []\n",
    "count = 1\n",
    "for i in new_sent:\n",
    "    if count <= 30:\n",
    "        temp.append(i)\n",
    "    else:\n",
    "        new_ytest.append(temp)\n",
    "        temp = []\n",
    "        temp.append(i)\n",
    "        count = 1\n",
    "    count = count + 1            \n",
    "            \n",
    "def pred2label(pred):\n",
    "    out = []\n",
    "    for pred_i in pred:\n",
    "        out_i = []\n",
    "        for p in pred_i:\n",
    "            p_i = np.argmax(p)\n",
    "            out_i.append(targets[p_i].replace(\"xxxPADDINGxxx\", \"O\"))\n",
    "        out.append(out_i)\n",
    "    return out\n",
    "def test2label(pred):\n",
    "    out = []\n",
    "    for pred_i in pred:\n",
    "        out_i = []\n",
    "        for p in pred_i:\n",
    "            out_i.append(targets[p].replace(\"xxxPADDINGxxx\", \"O\"))\n",
    "        out.append(out_i)\n",
    "    return out\n",
    "    \n",
    "pred_labels = pred2label(pred)\n",
    "test_labels = test2label(new_ytest)"
   ]
  },
  {
   "cell_type": "code",
   "execution_count": 26,
   "metadata": {},
   "outputs": [
    {
     "name": "stdout",
     "output_type": "stream",
     "text": [
      "                precision    recall  f1-score   support\n",
      "\n",
      "         Genre       0.57      0.67      0.62       406\n",
      "          Plot       0.32      0.38      0.35       813\n",
      "Character_Name       0.33      0.31      0.32       146\n",
      "  Relationship       0.32      0.09      0.15        85\n",
      "          Year       0.82      0.88      0.85       336\n",
      "       Opinion       0.00      0.00      0.00        97\n",
      "        Origin       0.11      0.16      0.13        86\n",
      "         Actor       0.77      0.83      0.80       621\n",
      "      Director       0.68      0.70      0.69       206\n",
      "         Quote       0.11      0.09      0.10        11\n",
      "         Award       0.40      0.44      0.42        43\n",
      "    Soundtrack       0.00      0.00      0.00         7\n",
      "\n",
      "     micro avg       0.53      0.57      0.55      2857\n",
      "     macro avg       0.52      0.57      0.54      2857\n",
      "\n"
     ]
    }
   ],
   "source": [
    "from seqeval.metrics import precision_score, recall_score, f1_score, classification_report\n",
    "\n",
    "print(classification_report(test_labels, pred_labels))"
   ]
  },
  {
   "cell_type": "code",
   "execution_count": 42,
   "metadata": {},
   "outputs": [
    {
     "name": "stdout",
     "output_type": "stream",
     "text": [
      "Word           True                : Pred\n",
      "what           O                   : O\n",
      "1941           B-Year              : B-Year\n",
      "humphrey       B-Actor             : B-Actor\n",
      "bogart         I-Actor             : I-Actor\n",
      "film           O                   : O\n",
      "concerned      O                   : O\n",
      "the            B-Plot              : I-Plot\n",
      "search         I-Plot              : I-Plot\n",
      "for            I-Plot              : I-Plot\n",
      "the            I-Plot              : I-Plot\n",
      "stuff          I-Plot              : I-Plot\n",
      "that           I-Plot              : I-Plot\n",
      "dreams         I-Plot              : I-Plot\n",
      "are            I-Plot              : I-Plot\n",
      "made           I-Plot              : I-Plot\n",
      "out            I-Plot              : I-Plot\n",
      "of             I-Plot              : I-Plot\n"
     ]
    }
   ],
   "source": [
    "i = 30\n",
    "p = loaded_model.predict( np.array([X_TEST[i]]) )\n",
    "p = np.argmax(p, axis=-1)\n",
    "\n",
    "print(\"{:14} {:20}: {}\".format(\"Word\", \"True\", \"Pred\"))\n",
    "for w,true,pred in zip(X_TEST[i],new_ytest[i],p[0]):\n",
    "    for w2i in word2index:\n",
    "        if (w == w2i['index']):\n",
    "            if w2i['word'] != \"xxxPADDINGxxx\":\n",
    "                print(\"{:14} {:20}: {}\".format(w2i['word'],targets[true],targets[pred]))"
   ]
  },
  {
   "cell_type": "code",
   "execution_count": null,
   "metadata": {},
   "outputs": [],
   "source": []
  }
 ],
 "metadata": {
  "kernelspec": {
   "display_name": "Python 3",
   "language": "python",
   "name": "python3"
  },
  "language_info": {
   "codemirror_mode": {
    "name": "ipython",
    "version": 3
   },
   "file_extension": ".py",
   "mimetype": "text/x-python",
   "name": "python",
   "nbconvert_exporter": "python",
   "pygments_lexer": "ipython3",
   "version": "3.7.4"
  }
 },
 "nbformat": 4,
 "nbformat_minor": 2
}
