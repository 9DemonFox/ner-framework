{
 "cells": [
  {
   "cell_type": "code",
   "execution_count": 1,
   "metadata": {},
   "outputs": [
    {
     "name": "stderr",
     "output_type": "stream",
     "text": [
      "Using TensorFlow backend.\n"
     ]
    },
    {
     "name": "stdout",
     "output_type": "stream",
     "text": [
      "Loaded model from disk\n"
     ]
    }
   ],
   "source": [
    "from keras.models import Model, Input, Sequential\n",
    "from keras.layers.merge import add\n",
    "from keras.layers import LSTM, Embedding, Dense, TimeDistributed, Dropout, Bidirectional, Lambda, Flatten\n",
    "from keras.models import model_from_json\n",
    "import numpy as np\n",
    "\n",
    "# load json and create model\n",
    "json_file = open('model.json', 'r')\n",
    "loaded_model_json = json_file.read()\n",
    "json_file.close()\n",
    "loaded_model = model_from_json(loaded_model_json)\n",
    "# load weights into new model\n",
    "loaded_model.load_weights(\"model.h5\")\n",
    "print(\"Loaded model from disk\")"
   ]
  },
  {
   "cell_type": "code",
   "execution_count": 2,
   "metadata": {},
   "outputs": [],
   "source": [
    "import json\n",
    "\n",
    "with open(\"dictionary.json\", \"r\") as dict_file:\n",
    "    word2index = json.load(dict_file)\n",
    "dict_file.close()    "
   ]
  },
  {
   "cell_type": "code",
   "execution_count": 3,
   "metadata": {},
   "outputs": [],
   "source": [
    "###### The folowing string comes from the test file ########\n",
    "###### I have also tested with my own string ###############\n",
    "\n",
    "max_len = 30\n",
    "\n",
    "TEST_THIS = 'i m thinking of a 1988 action film in which bruce willis a nypd officer fights off terrorist'\n",
    "TEST_THIS = TEST_THIS.lower()      \n",
    "TEST_THIS = TEST_THIS.split(' ')\n",
    "\n",
    "for i in range(max_len):\n",
    "    if i >= len(TEST_THIS):\n",
    "        TEST_THIS.append(\"xxxPADDINGxxx\")\n"
   ]
  },
  {
   "cell_type": "code",
   "execution_count": 4,
   "metadata": {},
   "outputs": [
    {
     "name": "stdout",
     "output_type": "stream",
     "text": [
      "[10833, 6000, 2363, 5857, 1227, 7450, 10967, 11624, 9947, 3725, 10549, 8738, 1227, 6454, 11358, 6036, 10016, 10533, 6763, 6763, 6763, 6763, 6763, 6763, 6763, 6763, 6763, 6763, 6763, 6763]\n"
     ]
    }
   ],
   "source": [
    "TEST_THIS_INDEXED = []\n",
    "not_in_dict = 0\n",
    "\n",
    "for w in TEST_THIS:\n",
    "    for w2i in word2index:\n",
    "        if (w == w2i['word']):\n",
    "            TEST_THIS_INDEXED.append(w2i['index'])\n",
    "print(TEST_THIS_INDEXED)"
   ]
  },
  {
   "cell_type": "code",
   "execution_count": 5,
   "metadata": {},
   "outputs": [],
   "source": [
    "with open(\"target.txt\", \"r\") as target_file:\n",
    "    targets = target_file.read()\n",
    "target_file.close() \n",
    "\n",
    "targets = targets.split(', ')"
   ]
  },
  {
   "cell_type": "code",
   "execution_count": 6,
   "metadata": {},
   "outputs": [
    {
     "name": "stdout",
     "output_type": "stream",
     "text": [
      "Word           (True ): Pred\n",
      "i             : O\n",
      "m             : O\n",
      "thinking      : O\n",
      "of            : O\n",
      "a             : O\n",
      "1988          : B-Year\n",
      "action        : B-Genre\n",
      "film          : O\n",
      "in            : O\n",
      "which         : O\n",
      "bruce         : B-Actor\n",
      "willis        : I-Actor\n",
      "a             : B-Plot\n",
      "nypd          : B-Plot\n",
      "officer       : I-Plot\n",
      "fights        : I-Plot\n",
      "off           : I-Plot\n",
      "terrorist     : I-Plot\n",
      "xxxPADDINGxxx : O\n",
      "xxxPADDINGxxx : O\n",
      "xxxPADDINGxxx : O\n",
      "xxxPADDINGxxx : O\n",
      "xxxPADDINGxxx : O\n",
      "xxxPADDINGxxx : O\n",
      "xxxPADDINGxxx : O\n",
      "xxxPADDINGxxx : O\n",
      "xxxPADDINGxxx : O\n",
      "xxxPADDINGxxx : O\n",
      "xxxPADDINGxxx : O\n",
      "xxxPADDINGxxx : O\n"
     ]
    }
   ],
   "source": [
    "p = loaded_model.predict(np.array([TEST_THIS_INDEXED]))\n",
    "p = np.argmax(p, axis=-1)\n",
    "\n",
    "print(\"{:14} ({:5}): {}\".format(\"Word\", \"True\", \"Pred\"))\n",
    "for w,pred in zip(TEST_THIS_INDEXED,p[0]):\n",
    "    for w2i in word2index:\n",
    "        if (w == w2i['index']):\n",
    "            print(\"{:14}: {}\".format(w2i['word'],targets[pred]))"
   ]
  }
 ],
 "metadata": {
  "kernelspec": {
   "display_name": "Python 3",
   "language": "python",
   "name": "python3"
  },
  "language_info": {
   "codemirror_mode": {
    "name": "ipython",
    "version": 3
   },
   "file_extension": ".py",
   "mimetype": "text/x-python",
   "name": "python",
   "nbconvert_exporter": "python",
   "pygments_lexer": "ipython3",
   "version": "3.7.4"
  }
 },
 "nbformat": 4,
 "nbformat_minor": 2
}
