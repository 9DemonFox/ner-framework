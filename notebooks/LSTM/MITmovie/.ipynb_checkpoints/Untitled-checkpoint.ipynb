{
 "cells": [
  {
   "cell_type": "code",
   "execution_count": 1,
   "metadata": {},
   "outputs": [],
   "source": [
    "####################################\n",
    "###  Fetch data and Preprocess  ###\n",
    "\n",
    "import nltk\n",
    "from nltk.corpus.reader import *\n",
    "from nltk import flatten\n",
    "\n",
    "\n",
    "# Read the dataset \n",
    "train = ConllCorpusReader('data/MITMovieCorpus',\n",
    "                          'train.txt',\n",
    "                          ['pos', 'words'])\n",
    "\n",
    "\n",
    "test = ConllCorpusReader('data/MITMovieCorpus', \n",
    "                         'test.txt',\n",
    "                          ['pos', 'words'])"
   ]
  },
  {
   "cell_type": "code",
   "execution_count": 2,
   "metadata": {},
   "outputs": [
    {
     "name": "stdout",
     "output_type": "stream",
     "text": [
      "Number of training records: 7816\n",
      "Number of testing records: 1953\n",
      "[('steve', 'B-Actor'), ('mcqueen', 'I-Actor'), ('provided', 'O'), ('a', 'O'), ('thrilling', 'B-Plot'), ('motorcycle', 'I-Plot'), ('chase', 'I-Plot'), ('in', 'I-Plot'), ('this', 'I-Plot'), ('greatest', 'B-Opinion'), ('of', 'I-Opinion'), ('all', 'I-Opinion'), ('ww', 'B-Plot'), ('2', 'I-Plot'), ('prison', 'I-Plot'), ('escape', 'I-Plot'), ('movies', 'I-Plot')]\n"
     ]
    }
   ],
   "source": [
    "##couldnt find the method to get NE so it is represented as POS\n",
    "sentences = train.tagged_sents() + test.tagged_sents()\n",
    "test_sentences = test.tagged_sents() \n",
    "\n",
    "print(\"Number of training records: \" + str(len(train.tagged_sents())))\n",
    "print(\"Number of testing records: \" + str(len(test.tagged_sents())))\n",
    "print(sentences[0])"
   ]
  },
  {
   "cell_type": "code",
   "execution_count": 3,
   "metadata": {},
   "outputs": [
    {
     "name": "stdout",
     "output_type": "stream",
     "text": [
      "biggest sentence has 76 words\n"
     ]
    }
   ],
   "source": [
    "largest_sen = max(len(sen) for sen in sentences)\n",
    "print('biggest sentence has {} words'.format(largest_sen))"
   ]
  },
  {
   "cell_type": "code",
   "execution_count": 4,
   "metadata": {},
   "outputs": [
    {
     "data": {
      "text/plain": [
       "(array([1.600e+01, 1.140e+02, 1.740e+02, 3.122e+03, 3.341e+03, 1.313e+03,\n",
       "        9.220e+02, 4.570e+02, 1.320e+02, 7.100e+01, 5.100e+01, 2.800e+01,\n",
       "        1.600e+01, 5.000e+00, 1.000e+00, 2.000e+00, 1.000e+00, 1.000e+00,\n",
       "        1.000e+00, 1.000e+00]),\n",
       " array([ 3.  ,  6.65, 10.3 , 13.95, 17.6 , 21.25, 24.9 , 28.55, 32.2 ,\n",
       "        35.85, 39.5 , 43.15, 46.8 , 50.45, 54.1 , 57.75, 61.4 , 65.05,\n",
       "        68.7 , 72.35, 76.  ]),\n",
       " <a list of 20 Patch objects>)"
      ]
     },
     "execution_count": 4,
     "metadata": {},
     "output_type": "execute_result"
    },
    {
     "data": {
      "image/png": "[encoded data removed]",
      "text/plain": [
       "<Figure size 432x288 with 1 Axes>"
      ]
     },
     "metadata": {},
     "output_type": "display_data"
    }
   ],
   "source": [
    "%matplotlib inline\n",
    "import matplotlib.pyplot as plt\n",
    "plt.style.use(\"ggplot\")\n",
    "\n",
    "plt.hist([len(sen) for sen in sentences], bins=20)"
   ]
  },
  {
   "cell_type": "raw",
   "metadata": {},
   "source": [
    "As seen in the graph above, majority of the sentences contain less than 40 words even though the there is one sentences that contains  words. We will truncate all sentences larger than 30 words and the sentences that hav less than 30 words will be padded. This is done because, the input that is passed into lstm model has to be of same length. If all sentences are forced to be 334len then most of the words will just be padding."
   ]
  },
  {
   "cell_type": "code",
   "execution_count": 5,
   "metadata": {},
   "outputs": [
    {
     "name": "stdout",
     "output_type": "stream",
     "text": [
      "30\n",
      "['i', 'm', 'thinking', 'of', 'the', 'epic', 'movie', 'based', 'on', 'the', 'book', 'by', 'j', 'r', 'r', 'tolkien', 'featuring', 'hobbits', 'wizards', 'elves', 'and', 'a', 'dark', 'magic', 'xxxPADDINGxxx', 'xxxPADDINGxxx', 'xxxPADDINGxxx', 'xxxPADDINGxxx', 'xxxPADDINGxxx', 'xxxPADDINGxxx']\n"
     ]
    }
   ],
   "source": [
    "max_len = 30\n",
    "\n",
    "X = []\n",
    "padded_sent = []\n",
    "x_index = 0\n",
    "for s in sentences:\n",
    "    for i in range(max_len):\n",
    "        if i >= len(s):\n",
    "            padded_sent.append(\"xxxPADDINGxxx\")\n",
    "        else:\n",
    "            padded_sent.append(s[i][0])\n",
    "    \n",
    "    X.append(padded_sent)\n",
    "    padded_sent = []\n",
    "print (len(X[53]))\n",
    "print(X[53])"
   ]
  },
  {
   "cell_type": "raw",
   "metadata": {},
   "source": [
    "For the named entities, we will encode them as one hot vectors because they are the values that our model will output to"
   ]
  },
  {
   "cell_type": "code",
   "execution_count": 6,
   "metadata": {},
   "outputs": [
    {
     "name": "stdout",
     "output_type": "stream",
     "text": [
      "25\n"
     ]
    }
   ],
   "source": [
    "tags = []\n",
    "for s in sentences:\n",
    "    for w in s:\n",
    "        tags.append(w[1])\n",
    "tags = list(set(tags))\n",
    "num_tags = len(tags)\n",
    "\n",
    "print(num_tags)"
   ]
  },
  {
   "cell_type": "code",
   "execution_count": 7,
   "metadata": {},
   "outputs": [
    {
     "name": "stderr",
     "output_type": "stream",
     "text": [
      "Using TensorFlow backend.\n"
     ]
    },
    {
     "name": "stdout",
     "output_type": "stream",
     "text": [
      "[('what', 'O'), ('is', 'O'), ('the', 'O'), ('movie', 'O'), ('about', 'O'), ('luke', 'B-Character_Name'), ('skywalker', 'I-Character_Name'), ('breaking', 'B-Plot'), ('free', 'I-Plot'), ('from', 'I-Plot'), ('his', 'I-Plot'), ('aunt', 'I-Plot'), ('and', 'I-Plot'), ('uncle', 'I-Plot'), ('to', 'I-Plot'), ('rescue', 'I-Plot'), ('princess', 'B-Character_Name'), ('leia', 'I-Character_Name')]\n"
     ]
    },
    {
     "data": {
      "text/plain": [
       "array([[0., 0., 0., 0., 0., 0., 0., 0., 0., 0., 0., 0., 0., 0., 0., 1.,\n",
       "        0., 0., 0., 0., 0., 0., 0., 0., 0.],\n",
       "       [0., 0., 0., 0., 0., 0., 0., 0., 0., 0., 0., 0., 0., 0., 0., 1.,\n",
       "        0., 0., 0., 0., 0., 0., 0., 0., 0.],\n",
       "       [0., 0., 0., 0., 0., 0., 0., 0., 0., 0., 0., 0., 0., 0., 0., 1.,\n",
       "        0., 0., 0., 0., 0., 0., 0., 0., 0.],\n",
       "       [0., 0., 0., 0., 0., 0., 0., 0., 0., 0., 0., 0., 0., 0., 0., 1.,\n",
       "        0., 0., 0., 0., 0., 0., 0., 0., 0.],\n",
       "       [0., 0., 0., 0., 0., 0., 0., 0., 0., 0., 0., 0., 0., 0., 0., 1.,\n",
       "        0., 0., 0., 0., 0., 0., 0., 0., 0.],\n",
       "       [0., 0., 0., 0., 1., 0., 0., 0., 0., 0., 0., 0., 0., 0., 0., 0.,\n",
       "        0., 0., 0., 0., 0., 0., 0., 0., 0.],\n",
       "       [0., 0., 0., 0., 0., 0., 0., 0., 0., 0., 0., 0., 0., 0., 0., 0.,\n",
       "        0., 0., 1., 0., 0., 0., 0., 0., 0.],\n",
       "       [0., 0., 0., 0., 0., 0., 0., 0., 0., 0., 0., 0., 0., 0., 0., 0.,\n",
       "        0., 1., 0., 0., 0., 0., 0., 0., 0.],\n",
       "       [0., 0., 0., 0., 0., 0., 0., 0., 0., 0., 0., 0., 0., 0., 0., 0.,\n",
       "        0., 0., 0., 0., 1., 0., 0., 0., 0.],\n",
       "       [0., 0., 0., 0., 0., 0., 0., 0., 0., 0., 0., 0., 0., 0., 0., 0.,\n",
       "        0., 0., 0., 0., 1., 0., 0., 0., 0.],\n",
       "       [0., 0., 0., 0., 0., 0., 0., 0., 0., 0., 0., 0., 0., 0., 0., 0.,\n",
       "        0., 0., 0., 0., 1., 0., 0., 0., 0.],\n",
       "       [0., 0., 0., 0., 0., 0., 0., 0., 0., 0., 0., 0., 0., 0., 0., 0.,\n",
       "        0., 0., 0., 0., 1., 0., 0., 0., 0.],\n",
       "       [0., 0., 0., 0., 0., 0., 0., 0., 0., 0., 0., 0., 0., 0., 0., 0.,\n",
       "        0., 0., 0., 0., 1., 0., 0., 0., 0.],\n",
       "       [0., 0., 0., 0., 0., 0., 0., 0., 0., 0., 0., 0., 0., 0., 0., 0.,\n",
       "        0., 0., 0., 0., 1., 0., 0., 0., 0.],\n",
       "       [0., 0., 0., 0., 0., 0., 0., 0., 0., 0., 0., 0., 0., 0., 0., 0.,\n",
       "        0., 0., 0., 0., 1., 0., 0., 0., 0.],\n",
       "       [0., 0., 0., 0., 0., 0., 0., 0., 0., 0., 0., 0., 0., 0., 0., 0.,\n",
       "        0., 0., 0., 0., 1., 0., 0., 0., 0.],\n",
       "       [0., 0., 0., 0., 1., 0., 0., 0., 0., 0., 0., 0., 0., 0., 0., 0.,\n",
       "        0., 0., 0., 0., 0., 0., 0., 0., 0.],\n",
       "       [0., 0., 0., 0., 0., 0., 0., 0., 0., 0., 0., 0., 0., 0., 0., 0.,\n",
       "        0., 0., 1., 0., 0., 0., 0., 0., 0.],\n",
       "       [0., 0., 0., 0., 0., 0., 0., 0., 0., 0., 0., 0., 0., 0., 0., 1.,\n",
       "        0., 0., 0., 0., 0., 0., 0., 0., 0.],\n",
       "       [0., 0., 0., 0., 0., 0., 0., 0., 0., 0., 0., 0., 0., 0., 0., 1.,\n",
       "        0., 0., 0., 0., 0., 0., 0., 0., 0.],\n",
       "       [0., 0., 0., 0., 0., 0., 0., 0., 0., 0., 0., 0., 0., 0., 0., 1.,\n",
       "        0., 0., 0., 0., 0., 0., 0., 0., 0.],\n",
       "       [0., 0., 0., 0., 0., 0., 0., 0., 0., 0., 0., 0., 0., 0., 0., 1.,\n",
       "        0., 0., 0., 0., 0., 0., 0., 0., 0.],\n",
       "       [0., 0., 0., 0., 0., 0., 0., 0., 0., 0., 0., 0., 0., 0., 0., 1.,\n",
       "        0., 0., 0., 0., 0., 0., 0., 0., 0.],\n",
       "       [0., 0., 0., 0., 0., 0., 0., 0., 0., 0., 0., 0., 0., 0., 0., 1.,\n",
       "        0., 0., 0., 0., 0., 0., 0., 0., 0.],\n",
       "       [0., 0., 0., 0., 0., 0., 0., 0., 0., 0., 0., 0., 0., 0., 0., 1.,\n",
       "        0., 0., 0., 0., 0., 0., 0., 0., 0.],\n",
       "       [0., 0., 0., 0., 0., 0., 0., 0., 0., 0., 0., 0., 0., 0., 0., 1.,\n",
       "        0., 0., 0., 0., 0., 0., 0., 0., 0.],\n",
       "       [0., 0., 0., 0., 0., 0., 0., 0., 0., 0., 0., 0., 0., 0., 0., 1.,\n",
       "        0., 0., 0., 0., 0., 0., 0., 0., 0.],\n",
       "       [0., 0., 0., 0., 0., 0., 0., 0., 0., 0., 0., 0., 0., 0., 0., 1.,\n",
       "        0., 0., 0., 0., 0., 0., 0., 0., 0.],\n",
       "       [0., 0., 0., 0., 0., 0., 0., 0., 0., 0., 0., 0., 0., 0., 0., 1.,\n",
       "        0., 0., 0., 0., 0., 0., 0., 0., 0.],\n",
       "       [0., 0., 0., 0., 0., 0., 0., 0., 0., 0., 0., 0., 0., 0., 0., 1.,\n",
       "        0., 0., 0., 0., 0., 0., 0., 0., 0.]], dtype=float32)"
      ]
     },
     "execution_count": 7,
     "metadata": {},
     "output_type": "execute_result"
    }
   ],
   "source": [
    "from keras.preprocessing.sequence import pad_sequences\n",
    "from keras.utils import to_categorical\n",
    "\n",
    "tags2index = {t:i for i,t in enumerate(tags)}\n",
    "y = [[tags2index[w[1]] for w in s] for s in sentences]\n",
    "y = pad_sequences(maxlen=max_len, sequences=y, padding=\"post\", value=tags2index[\"O\"])\n",
    "\n",
    "y = [to_categorical(i, num_classes = num_tags) for i in y]"
   ]
  },
  {
   "cell_type": "markdown",
   "metadata": {},
   "source": [
    "We want to change our words into numbers actually vectors to be specific (this is also also called embedding). Keras has a functional to do this but it requires us to map each unique word to a unique integer which will be passed into the function. The function takes:\n",
    "\n",
    "__input_dim:__ The total no. of unique words in our corpus. <br>\n",
    "__output_dim:__ Size of the vector that we want. <br>\n",
    "__input_length:__ Size of each spicific sentence (60). "
   ]
  },
  {
   "cell_type": "code",
   "execution_count": 8,
   "metadata": {},
   "outputs": [
    {
     "name": "stdout",
     "output_type": "stream",
     "text": [
      "[3713, 7051, 5085, 6827, 1797, 1680, 1745, 6519, 9460, 11724, 3657, 5563, 9041, 502, 3262, 6445, 2516, 4188, 3657, 6229, 2435, 2907, 1954, 10026, 4561, 3731, 10575, 10575, 10575, 10575]\n"
     ]
    }
   ],
   "source": [
    "words = []\n",
    "for s in X:\n",
    "    for w in s:\n",
    "        words.append(w)\n",
    "unique_words = list(set(words))\n",
    "num_words = len(unique_words)\n",
    "\n",
    "words2index = { w: i for i,w in enumerate(unique_words) }\n",
    "X = [[words2index[w] for w in s] for s in X]\n",
    "# X = pad_sequences(maxlen=max_len, sequences=X, padding=\"post\", value=tags2index[\"xxxPADDINGxxx\"])\n",
    "print(X[1])\n",
    "\n",
    "from keras.models import Model, Input\n",
    "from keras.layers.merge import add\n",
    "from keras.layers import LSTM, Embedding, Dense, TimeDistributed, Dropout, Bidirectional, Lambda\n",
    "\n",
    "from sklearn.model_selection import train_test_split\n",
    "X_TRAIN, X_TEST, Y_TRAIN, Y_TEST = train_test_split(X,y, test_size=0.1)\n"
   ]
  },
  {
   "cell_type": "code",
   "execution_count": 9,
   "metadata": {},
   "outputs": [],
   "source": [
    "from keras.models import Model, Input, Sequential\n",
    "from keras.layers.merge import add\n",
    "from keras.layers import LSTM, Embedding, Dense, TimeDistributed, Dropout, Bidirectional, Lambda, Flatten\n",
    "import numpy as np\n",
    "\n",
    "input = Input(shape=(max_len,))\n",
    "embedding = Embedding(input_dim = num_words, output_dim = 70, input_length = max_len)(input)\n",
    "\n",
    "x = Bidirectional(LSTM(units=512, return_sequences=True,\n",
    "                       recurrent_dropout=0.2, dropout=0.2))(embedding)\n",
    "x_rnn = Bidirectional(LSTM(units=512, return_sequences=False,\n",
    "                           recurrent_dropout=0.2, dropout=0.2))(x)\n",
    "x = add([x, x_rnn])  # residual connection to the first biLSTM\n",
    "out = TimeDistributed(Dense(num_tags, activation=\"softmax\"))(x)\n",
    "model = Model(input, out)\n",
    "model.compile(optimizer=\"adam\", loss=\"sparse_categorical_crossentropy\", metrics=[\"accuracy\"])\n",
    "\n",
    "\n",
    "model.compile('adam', 'binary_crossentropy', metrics=['accuracy'])\n",
    "\n",
    "X_TRAIN, X_TEST = np.array(X_TRAIN), np.array(X_TEST)\n",
    "\n",
    "\n",
    "# print('x_train shape:', X_TRAIN.shape)\n",
    "# print('x_test shape:', X_TEST.shape)\n",
    "# print('out = ', out.shape)\n",
    "\n",
    "# print()\n",
    "# print()\n",
    "\n",
    "# print(X_TRAIN)\n",
    "\n",
    "# print()\n",
    "# print()\n",
    "# print()\n",
    "\n",
    "\n",
    "# print(np.array(Y_TRAIN))"
   ]
  },
  {
   "cell_type": "code",
   "execution_count": 10,
   "metadata": {},
   "outputs": [
    {
     "name": "stdout",
     "output_type": "stream",
     "text": [
      "Training...\n"
     ]
    },
    {
     "name": "stderr",
     "output_type": "stream",
     "text": [
      "/opt/anaconda3/lib/python3.7/site-packages/tensorflow_core/python/framework/indexed_slices.py:424: UserWarning: Converting sparse IndexedSlices to a dense Tensor of unknown shape. This may consume a large amount of memory.\n",
      "  \"Converting sparse IndexedSlices to a dense Tensor of unknown shape. \"\n"
     ]
    },
    {
     "name": "stdout",
     "output_type": "stream",
     "text": [
      "Train on 8792 samples, validate on 977 samples\n",
      "Epoch 1/4\n",
      "8792/8792 [==============================] - 575s 65ms/step - loss: 0.0590 - accuracy: 0.9802 - val_loss: 0.0445 - val_accuracy: 0.9861\n",
      "Epoch 2/4\n",
      "8792/8792 [==============================] - 634s 72ms/step - loss: 0.0351 - accuracy: 0.9886 - val_loss: 0.0317 - val_accuracy: 0.9898\n",
      "Epoch 3/4\n",
      "8792/8792 [==============================] - 585s 67ms/step - loss: 0.0253 - accuracy: 0.9915 - val_loss: 0.0271 - val_accuracy: 0.9910\n",
      "Epoch 4/4\n",
      "8792/8792 [==============================] - 560s 64ms/step - loss: 0.0210 - accuracy: 0.9927 - val_loss: 0.0254 - val_accuracy: 0.9913\n"
     ]
    },
    {
     "data": {
      "text/plain": [
       "<keras.callbacks.callbacks.History at 0x1a4fc1aa90>"
      ]
     },
     "execution_count": 10,
     "metadata": {},
     "output_type": "execute_result"
    }
   ],
   "source": [
    "batch_size = 32\n",
    "\n",
    "print('Training...')\n",
    "model.fit(X_TRAIN, np.array(Y_TRAIN),\n",
    "          validation_data=(np.array(X_TEST), np.array(Y_TEST)),\n",
    "          batch_size=batch_size,\n",
    "          epochs=4)"
   ]
  },
  {
   "cell_type": "code",
   "execution_count": 17,
   "metadata": {},
   "outputs": [
    {
     "name": "stdout",
     "output_type": "stream",
     "text": [
      "Word           (True ): Pred\n",
      "arnold        : I-Actor\n",
      "the           : O\n",
      "governator    : O\n",
      "schwarzenegger: B-Genre\n",
      "s             : O\n",
      "1982          : B-Year\n",
      "classic       : I-Genre\n",
      "follows       : O\n",
      "the           : O\n",
      "adventures    : I-Plot\n",
      "of            : I-Plot\n",
      "the           : I-Plot\n",
      "eponymous     : I-Plot\n",
      "character     : I-Plot\n",
      "in            : I-Plot\n",
      "a             : I-Plot\n",
      "world         : I-Plot\n",
      "of            : I-Plot\n",
      "dark          : I-Plot\n",
      "magic         : I-Plot\n",
      "and           : I-Plot\n",
      "savagery      : I-Plot\n",
      "xxxPADDINGxxx : O\n",
      "xxxPADDINGxxx : O\n",
      "xxxPADDINGxxx : O\n",
      "xxxPADDINGxxx : O\n",
      "xxxPADDINGxxx : O\n",
      "xxxPADDINGxxx : O\n",
      "xxxPADDINGxxx : O\n",
      "xxxPADDINGxxx : O\n"
     ]
    }
   ],
   "source": [
    "i = 27\n",
    "p = model.predict(np.array([X_TEST[i]]))\n",
    "p = np.argmax(p, axis=-1)\n",
    "\n",
    "print(\"{:14} ({:5}): {}\".format(\"Word\", \"True\", \"Pred\"))\n",
    "for w,pred in zip(X_TEST[i],p[0]):\n",
    "    print(\"{:14}: {}\".format(unique_words[w],tags[pred]))\n",
    "    \n",
    "#print(len(X_TRAIN[36]))\n",
    "#print(words[X_TRAIN[4][1]])\n",
    "\n",
    "model.save('inital.model')"
   ]
  },
  {
   "cell_type": "code",
   "execution_count": null,
   "metadata": {},
   "outputs": [],
   "source": []
  }
 ],
 "metadata": {
  "kernelspec": {
   "display_name": "Python 3",
   "language": "python",
   "name": "python3"
  },
  "language_info": {
   "codemirror_mode": {
    "name": "ipython",
    "version": 3
   },
   "file_extension": ".py",
   "mimetype": "text/x-python",
   "name": "python",
   "nbconvert_exporter": "python",
   "pygments_lexer": "ipython3",
   "version": "3.7.4"
  }
 },
 "nbformat": 4,
 "nbformat_minor": 2
}
